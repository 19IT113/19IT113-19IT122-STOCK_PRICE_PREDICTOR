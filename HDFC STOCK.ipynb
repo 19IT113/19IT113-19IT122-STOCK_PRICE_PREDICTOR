{
 "cells": [
  {
   "cell_type": "code",
   "execution_count": 1,
   "metadata": {},
   "outputs": [
    {
     "data": {
      "text/html": [
       "        <script type=\"text/javascript\">\n",
       "        window.PlotlyConfig = {MathJaxConfig: 'local'};\n",
       "        if (window.MathJax) {MathJax.Hub.Config({SVG: {font: \"STIX-Web\"}});}\n",
       "        if (typeof require !== 'undefined') {\n",
       "        require.undef(\"plotly\");\n",
       "        requirejs.config({\n",
       "            paths: {\n",
       "                'plotly': ['https://cdn.plot.ly/plotly-latest.min']\n",
       "            }\n",
       "        });\n",
       "        require(['plotly'], function(Plotly) {\n",
       "            window._Plotly = Plotly;\n",
       "        });\n",
       "        }\n",
       "        </script>\n",
       "        "
      ]
     },
     "metadata": {},
     "output_type": "display_data"
    }
   ],
   "source": [
    "import pandas as pd\n",
    "import numpy as np\n",
    "import matplotlib.pyplot as plt\n",
    "%matplotlib inline\n",
    "\n",
    "import chart_studio.plotly as py\n",
    "import plotly.graph_objs as go\n",
    "from plotly.offline import plot\n",
    "\n",
    "#for offline plotting\n",
    "from plotly.offline import download_plotlyjs, init_notebook_mode, plot, iplot\n",
    "init_notebook_mode(connected=True) "
   ]
  },
  {
   "cell_type": "code",
   "execution_count": 2,
   "metadata": {},
   "outputs": [
    {
     "data": {
      "text/html": [
       "<div>\n",
       "<style scoped>\n",
       "    .dataframe tbody tr th:only-of-type {\n",
       "        vertical-align: middle;\n",
       "    }\n",
       "\n",
       "    .dataframe tbody tr th {\n",
       "        vertical-align: top;\n",
       "    }\n",
       "\n",
       "    .dataframe thead th {\n",
       "        text-align: right;\n",
       "    }\n",
       "</style>\n",
       "<table border=\"1\" class=\"dataframe\">\n",
       "  <thead>\n",
       "    <tr style=\"text-align: right;\">\n",
       "      <th></th>\n",
       "      <th>Symbol</th>\n",
       "      <th>Series</th>\n",
       "      <th>Date</th>\n",
       "      <th>Prev Close</th>\n",
       "      <th>Open Price</th>\n",
       "      <th>High Price</th>\n",
       "      <th>Low Price</th>\n",
       "      <th>Last Price</th>\n",
       "      <th>Close Price</th>\n",
       "      <th>Average Price</th>\n",
       "      <th>Total Traded Quantity</th>\n",
       "      <th>Turnover</th>\n",
       "      <th>No. of Trades</th>\n",
       "    </tr>\n",
       "  </thead>\n",
       "  <tbody>\n",
       "    <tr>\n",
       "      <th>0</th>\n",
       "      <td>HDFC</td>\n",
       "      <td>EQ</td>\n",
       "      <td>27-Mar-2019</td>\n",
       "      <td>1946.30</td>\n",
       "      <td>1955.55</td>\n",
       "      <td>1959.00</td>\n",
       "      <td>1906.00</td>\n",
       "      <td>1914.10</td>\n",
       "      <td>1919.90</td>\n",
       "      <td>1937.71</td>\n",
       "      <td>3076446</td>\n",
       "      <td>5.961253e+09</td>\n",
       "      <td>161822</td>\n",
       "    </tr>\n",
       "    <tr>\n",
       "      <th>1</th>\n",
       "      <td>HDFC</td>\n",
       "      <td>EQ</td>\n",
       "      <td>28-Mar-2019</td>\n",
       "      <td>1919.90</td>\n",
       "      <td>1917.00</td>\n",
       "      <td>1950.00</td>\n",
       "      <td>1912.05</td>\n",
       "      <td>1942.10</td>\n",
       "      <td>1944.45</td>\n",
       "      <td>1942.93</td>\n",
       "      <td>6370987</td>\n",
       "      <td>1.237836e+10</td>\n",
       "      <td>151893</td>\n",
       "    </tr>\n",
       "    <tr>\n",
       "      <th>2</th>\n",
       "      <td>HDFC</td>\n",
       "      <td>EQ</td>\n",
       "      <td>29-Mar-2019</td>\n",
       "      <td>1944.45</td>\n",
       "      <td>1950.05</td>\n",
       "      <td>1972.25</td>\n",
       "      <td>1936.05</td>\n",
       "      <td>1964.00</td>\n",
       "      <td>1968.25</td>\n",
       "      <td>1956.38</td>\n",
       "      <td>4320179</td>\n",
       "      <td>8.451925e+09</td>\n",
       "      <td>148642</td>\n",
       "    </tr>\n",
       "    <tr>\n",
       "      <th>3</th>\n",
       "      <td>HDFC</td>\n",
       "      <td>EQ</td>\n",
       "      <td>01-Apr-2019</td>\n",
       "      <td>1968.25</td>\n",
       "      <td>1968.10</td>\n",
       "      <td>1975.00</td>\n",
       "      <td>1945.05</td>\n",
       "      <td>1951.00</td>\n",
       "      <td>1959.65</td>\n",
       "      <td>1960.06</td>\n",
       "      <td>3328552</td>\n",
       "      <td>6.524154e+09</td>\n",
       "      <td>168073</td>\n",
       "    </tr>\n",
       "    <tr>\n",
       "      <th>4</th>\n",
       "      <td>HDFC</td>\n",
       "      <td>EQ</td>\n",
       "      <td>02-Apr-2019</td>\n",
       "      <td>1959.65</td>\n",
       "      <td>1966.10</td>\n",
       "      <td>2001.00</td>\n",
       "      <td>1955.00</td>\n",
       "      <td>1998.95</td>\n",
       "      <td>1995.95</td>\n",
       "      <td>1979.73</td>\n",
       "      <td>3655232</td>\n",
       "      <td>7.236387e+09</td>\n",
       "      <td>159005</td>\n",
       "    </tr>\n",
       "  </tbody>\n",
       "</table>\n",
       "</div>"
      ],
      "text/plain": [
       "  Symbol Series         Date  Prev Close  Open Price  High Price  Low Price  \\\n",
       "0   HDFC     EQ  27-Mar-2019     1946.30     1955.55     1959.00    1906.00   \n",
       "1   HDFC     EQ  28-Mar-2019     1919.90     1917.00     1950.00    1912.05   \n",
       "2   HDFC     EQ  29-Mar-2019     1944.45     1950.05     1972.25    1936.05   \n",
       "3   HDFC     EQ  01-Apr-2019     1968.25     1968.10     1975.00    1945.05   \n",
       "4   HDFC     EQ  02-Apr-2019     1959.65     1966.10     2001.00    1955.00   \n",
       "\n",
       "   Last Price  Close Price  Average Price  Total Traded Quantity  \\\n",
       "0     1914.10      1919.90        1937.71                3076446   \n",
       "1     1942.10      1944.45        1942.93                6370987   \n",
       "2     1964.00      1968.25        1956.38                4320179   \n",
       "3     1951.00      1959.65        1960.06                3328552   \n",
       "4     1998.95      1995.95        1979.73                3655232   \n",
       "\n",
       "       Turnover  No. of Trades  \n",
       "0  5.961253e+09         161822  \n",
       "1  1.237836e+10         151893  \n",
       "2  8.451925e+09         148642  \n",
       "3  6.524154e+09         168073  \n",
       "4  7.236387e+09         159005  "
      ]
     },
     "execution_count": 2,
     "metadata": {},
     "output_type": "execute_result"
    }
   ],
   "source": [
    "HDFC = pd.read_csv('HDFC.csv')\n",
    "HDFC.head()"
   ]
  },
  {
   "cell_type": "code",
   "execution_count": 3,
   "metadata": {},
   "outputs": [
    {
     "name": "stdout",
     "output_type": "stream",
     "text": [
      "<class 'pandas.core.frame.DataFrame'>\n",
      "RangeIndex: 653 entries, 0 to 652\n",
      "Data columns (total 13 columns):\n",
      " #   Column                 Non-Null Count  Dtype  \n",
      "---  ------                 --------------  -----  \n",
      " 0   Symbol                 653 non-null    object \n",
      " 1   Series                 653 non-null    object \n",
      " 2   Date                   653 non-null    object \n",
      " 3   Prev Close             653 non-null    float64\n",
      " 4   Open Price             653 non-null    float64\n",
      " 5   High Price             653 non-null    float64\n",
      " 6   Low Price              653 non-null    float64\n",
      " 7   Last Price             653 non-null    float64\n",
      " 8   Close Price            653 non-null    float64\n",
      " 9   Average Price          653 non-null    float64\n",
      " 10  Total Traded Quantity  653 non-null    int64  \n",
      " 11  Turnover               653 non-null    float64\n",
      " 12  No. of Trades          653 non-null    int64  \n",
      "dtypes: float64(8), int64(2), object(3)\n",
      "memory usage: 66.4+ KB\n"
     ]
    }
   ],
   "source": [
    "HDFC.info()"
   ]
  },
  {
   "cell_type": "code",
   "execution_count": 4,
   "metadata": {},
   "outputs": [],
   "source": [
    "HDFC['Date'] = pd.to_datetime(HDFC['Date'])"
   ]
  },
  {
   "cell_type": "code",
   "execution_count": 5,
   "metadata": {},
   "outputs": [
    {
     "name": "stdout",
     "output_type": "stream",
     "text": [
      "Dataframe contains stock prices between 2019-03-27 00:00:00 2021-03-25 00:00:00\n",
      "Total days = 729 days\n"
     ]
    }
   ],
   "source": [
    "print(f'Dataframe contains stock prices between {HDFC.Date.min()} {HDFC.Date.max()}') \n",
    "print(f'Total days = {(HDFC.Date.max()  - HDFC.Date.min()).days} days')"
   ]
  },
  {
   "cell_type": "code",
   "execution_count": 6,
   "metadata": {},
   "outputs": [
    {
     "data": {
      "text/html": [
       "<div>\n",
       "<style scoped>\n",
       "    .dataframe tbody tr th:only-of-type {\n",
       "        vertical-align: middle;\n",
       "    }\n",
       "\n",
       "    .dataframe tbody tr th {\n",
       "        vertical-align: top;\n",
       "    }\n",
       "\n",
       "    .dataframe thead th {\n",
       "        text-align: right;\n",
       "    }\n",
       "</style>\n",
       "<table border=\"1\" class=\"dataframe\">\n",
       "  <thead>\n",
       "    <tr style=\"text-align: right;\">\n",
       "      <th></th>\n",
       "      <th>Prev Close</th>\n",
       "      <th>Open Price</th>\n",
       "      <th>High Price</th>\n",
       "      <th>Low Price</th>\n",
       "      <th>Last Price</th>\n",
       "      <th>Close Price</th>\n",
       "      <th>Average Price</th>\n",
       "      <th>Total Traded Quantity</th>\n",
       "      <th>Turnover</th>\n",
       "      <th>No. of Trades</th>\n",
       "    </tr>\n",
       "  </thead>\n",
       "  <tbody>\n",
       "    <tr>\n",
       "      <th>count</th>\n",
       "      <td>653.000000</td>\n",
       "      <td>653.000000</td>\n",
       "      <td>653.000000</td>\n",
       "      <td>653.000000</td>\n",
       "      <td>653.000000</td>\n",
       "      <td>653.000000</td>\n",
       "      <td>653.000000</td>\n",
       "      <td>6.530000e+02</td>\n",
       "      <td>6.530000e+02</td>\n",
       "      <td>653.000000</td>\n",
       "    </tr>\n",
       "    <tr>\n",
       "      <th>mean</th>\n",
       "      <td>1746.449311</td>\n",
       "      <td>1749.144564</td>\n",
       "      <td>1774.158882</td>\n",
       "      <td>1722.880245</td>\n",
       "      <td>1748.426187</td>\n",
       "      <td>1748.265391</td>\n",
       "      <td>1748.469923</td>\n",
       "      <td>3.515540e+06</td>\n",
       "      <td>7.197153e+09</td>\n",
       "      <td>128439.543645</td>\n",
       "    </tr>\n",
       "    <tr>\n",
       "      <th>std</th>\n",
       "      <td>721.506297</td>\n",
       "      <td>721.565921</td>\n",
       "      <td>726.737757</td>\n",
       "      <td>713.670852</td>\n",
       "      <td>720.174580</td>\n",
       "      <td>720.427805</td>\n",
       "      <td>720.050971</td>\n",
       "      <td>2.915155e+06</td>\n",
       "      <td>5.689994e+09</td>\n",
       "      <td>93630.610894</td>\n",
       "    </tr>\n",
       "    <tr>\n",
       "      <th>min</th>\n",
       "      <td>180.000000</td>\n",
       "      <td>295.000000</td>\n",
       "      <td>299.950000</td>\n",
       "      <td>295.000000</td>\n",
       "      <td>298.200000</td>\n",
       "      <td>298.200000</td>\n",
       "      <td>298.770000</td>\n",
       "      <td>2.400000e+03</td>\n",
       "      <td>7.776300e+05</td>\n",
       "      <td>1.000000</td>\n",
       "    </tr>\n",
       "    <tr>\n",
       "      <th>25%</th>\n",
       "      <td>1555.150000</td>\n",
       "      <td>1570.000000</td>\n",
       "      <td>1637.650000</td>\n",
       "      <td>1501.500000</td>\n",
       "      <td>1560.000000</td>\n",
       "      <td>1555.150000</td>\n",
       "      <td>1555.480000</td>\n",
       "      <td>1.544391e+06</td>\n",
       "      <td>3.447994e+09</td>\n",
       "      <td>65565.000000</td>\n",
       "    </tr>\n",
       "    <tr>\n",
       "      <th>50%</th>\n",
       "      <td>1974.600000</td>\n",
       "      <td>1977.400000</td>\n",
       "      <td>2001.000000</td>\n",
       "      <td>1951.250000</td>\n",
       "      <td>1976.450000</td>\n",
       "      <td>1977.050000</td>\n",
       "      <td>1980.190000</td>\n",
       "      <td>3.245630e+06</td>\n",
       "      <td>6.908951e+09</td>\n",
       "      <td>132455.000000</td>\n",
       "    </tr>\n",
       "    <tr>\n",
       "      <th>75%</th>\n",
       "      <td>2259.950000</td>\n",
       "      <td>2256.800000</td>\n",
       "      <td>2286.300000</td>\n",
       "      <td>2231.600000</td>\n",
       "      <td>2262.000000</td>\n",
       "      <td>2261.900000</td>\n",
       "      <td>2262.050000</td>\n",
       "      <td>5.026304e+06</td>\n",
       "      <td>1.036941e+10</td>\n",
       "      <td>185412.000000</td>\n",
       "    </tr>\n",
       "    <tr>\n",
       "      <th>max</th>\n",
       "      <td>2860.450000</td>\n",
       "      <td>2871.000000</td>\n",
       "      <td>2896.000000</td>\n",
       "      <td>2838.000000</td>\n",
       "      <td>2861.550000</td>\n",
       "      <td>2860.450000</td>\n",
       "      <td>2867.920000</td>\n",
       "      <td>1.820364e+07</td>\n",
       "      <td>3.710496e+10</td>\n",
       "      <td>538170.000000</td>\n",
       "    </tr>\n",
       "  </tbody>\n",
       "</table>\n",
       "</div>"
      ],
      "text/plain": [
       "        Prev Close   Open Price   High Price    Low Price   Last Price  \\\n",
       "count   653.000000   653.000000   653.000000   653.000000   653.000000   \n",
       "mean   1746.449311  1749.144564  1774.158882  1722.880245  1748.426187   \n",
       "std     721.506297   721.565921   726.737757   713.670852   720.174580   \n",
       "min     180.000000   295.000000   299.950000   295.000000   298.200000   \n",
       "25%    1555.150000  1570.000000  1637.650000  1501.500000  1560.000000   \n",
       "50%    1974.600000  1977.400000  2001.000000  1951.250000  1976.450000   \n",
       "75%    2259.950000  2256.800000  2286.300000  2231.600000  2262.000000   \n",
       "max    2860.450000  2871.000000  2896.000000  2838.000000  2861.550000   \n",
       "\n",
       "       Close Price  Average Price  Total Traded Quantity      Turnover  \\\n",
       "count   653.000000     653.000000           6.530000e+02  6.530000e+02   \n",
       "mean   1748.265391    1748.469923           3.515540e+06  7.197153e+09   \n",
       "std     720.427805     720.050971           2.915155e+06  5.689994e+09   \n",
       "min     298.200000     298.770000           2.400000e+03  7.776300e+05   \n",
       "25%    1555.150000    1555.480000           1.544391e+06  3.447994e+09   \n",
       "50%    1977.050000    1980.190000           3.245630e+06  6.908951e+09   \n",
       "75%    2261.900000    2262.050000           5.026304e+06  1.036941e+10   \n",
       "max    2860.450000    2867.920000           1.820364e+07  3.710496e+10   \n",
       "\n",
       "       No. of Trades  \n",
       "count     653.000000  \n",
       "mean   128439.543645  \n",
       "std     93630.610894  \n",
       "min         1.000000  \n",
       "25%     65565.000000  \n",
       "50%    132455.000000  \n",
       "75%    185412.000000  \n",
       "max    538170.000000  "
      ]
     },
     "execution_count": 6,
     "metadata": {},
     "output_type": "execute_result"
    }
   ],
   "source": [
    "HDFC.describe()"
   ]
  },
  {
   "cell_type": "code",
   "execution_count": 7,
   "metadata": {},
   "outputs": [
    {
     "data": {
      "text/plain": [
       "<AxesSubplot:>"
      ]
     },
     "execution_count": 7,
     "metadata": {},
     "output_type": "execute_result"
    },
    {
     "data": {
      "image/png": "[encoded data removed]",
      "text/plain": [
       "<Figure size 432x288 with 1 Axes>"
      ]
     },
     "metadata": {
      "needs_background": "light"
     },
     "output_type": "display_data"
    }
   ],
   "source": [
    "HDFC[['Open Price','High Price','Low Price','Last Price','Last Price']].plot(kind='box')"
   ]
  },
  {
   "cell_type": "code",
   "execution_count": 8,
   "metadata": {},
   "outputs": [],
   "source": [
    "# Setting the layout for our plot\n",
    "layout = go.Layout(\n",
    "    title='Stock Prices of HDFC',\n",
    "    xaxis=dict(\n",
    "        title='Date',\n",
    "        titlefont=dict(\n",
    "            family='Courier New, monospace',\n",
    "            size=18,\n",
    "            color='#7f7f7f'\n",
    "        )\n",
    "    ),\n",
    "    yaxis=dict(\n",
    "        title='Price',\n",
    "        titlefont=dict(\n",
    "            family='Courier New, monospace',\n",
    "            size=18,\n",
    "            color='#7f7f7f'\n",
    "        )\n",
    "    )\n",
    ")\n",
    "\n",
    "HDFC_data = [{'x':HDFC['Date'], 'y':HDFC['Last Price']}]\n",
    "plot = go.Figure(data=HDFC_data, layout=layout)"
   ]
  },
  {
   "cell_type": "code",
   "execution_count": 9,
   "metadata": {},
   "outputs": [
    {
     "data": {
      "application/vnd.plotly.v1+json": {
       "config": {
        "linkText": "Export to plot.ly",
        "plotlyServerURL": "https://plot.ly",
        "showLink": false
       },
       "data": [
        {
         "type": "scatter",
         "x": [
          "2019-03-27T00:00:00",
          "2019-03-28T00:00:00",
          "2019-03-29T00:00:00",
          "2019-04-01T00:00:00",
          "2019-04-02T00:00:00",
          "2019-04-03T00:00:00",
          "2019-04-04T00:00:00",
          "2019-04-05T00:00:00",
          "2019-04-08T00:00:00",
          "2019-04-09T00:00:00",
          "2019-04-10T00:00:00",
          "2019-04-11T00:00:00",
          "2019-04-12T00:00:00",
          "2019-04-15T00:00:00",
          "2019-04-16T00:00:00",
          "2019-04-18T00:00:00",
          "2019-04-22T00:00:00",
          "2019-04-23T00:00:00",
          "2019-04-24T00:00:00",
          "2019-04-25T00:00:00",
          "2019-04-26T00:00:00",
          "2019-04-30T00:00:00",
          "2019-05-02T00:00:00",
          "2019-05-03T00:00:00",
          "2019-05-06T00:00:00",
          "2019-05-07T00:00:00",
          "2019-05-08T00:00:00",
          "2019-05-09T00:00:00",
          "2019-05-10T00:00:00",
          "2019-05-13T00:00:00",
          "2019-05-14T00:00:00",
          "2019-05-15T00:00:00",
          "2019-05-16T00:00:00",
          "2019-05-17T00:00:00",
          "2019-05-20T00:00:00",
          "2019-05-21T00:00:00",
          "2019-05-22T00:00:00",
          "2019-05-23T00:00:00",
          "2019-05-24T00:00:00",
          "2019-05-27T00:00:00",
          "2019-05-28T00:00:00",
          "2019-05-29T00:00:00",
          "2019-05-30T00:00:00",
          "2019-05-31T00:00:00",
          "2019-06-03T00:00:00",
          "2019-06-04T00:00:00",
          "2019-06-06T00:00:00",
          "2019-06-07T00:00:00",
          "2019-06-10T00:00:00",
          "2019-06-11T00:00:00",
          "2019-06-12T00:00:00",
          "2019-06-13T00:00:00",
          "2019-06-14T00:00:00",
          "2019-06-17T00:00:00",
          "2019-06-18T00:00:00",
          "2019-06-19T00:00:00",
          "2019-06-20T00:00:00",
          "2019-06-21T00:00:00",
          "2019-06-24T00:00:00",
          "2019-06-25T00:00:00",
          "2019-06-26T00:00:00",
          "2019-06-27T00:00:00",
          "2019-06-28T00:00:00",
          "2019-07-01T00:00:00",
          "2019-07-02T00:00:00",
          "2019-07-03T00:00:00",
          "2019-07-04T00:00:00",
          "2019-07-05T00:00:00",
          "2019-07-08T00:00:00",
          "2019-07-09T00:00:00",
          "2019-07-10T00:00:00",
          "2019-07-11T00:00:00",
          "2019-07-12T00:00:00",
          "2019-07-15T00:00:00",
          "2019-07-16T00:00:00",
          "2019-07-17T00:00:00",
          "2019-07-18T00:00:00",
          "2019-07-19T00:00:00",
          "2019-07-22T00:00:00",
          "2019-07-23T00:00:00",
          "2019-07-24T00:00:00",
          "2019-07-25T00:00:00",
          "2019-07-26T00:00:00",
          "2019-07-29T00:00:00",
          "2019-07-30T00:00:00",
          "2019-07-31T00:00:00",
          "2019-08-01T00:00:00",
          "2019-08-02T00:00:00",
          "2019-08-05T00:00:00",
          "2019-08-06T00:00:00",
          "2019-08-07T00:00:00",
          "2019-08-08T00:00:00",
          "2019-08-09T00:00:00",
          "2019-08-13T00:00:00",
          "2019-08-14T00:00:00",
          "2019-08-16T00:00:00",
          "2019-08-19T00:00:00",
          "2019-08-20T00:00:00",
          "2019-08-21T00:00:00",
          "2019-08-22T00:00:00",
          "2019-08-23T00:00:00",
          "2019-08-26T00:00:00",
          "2019-08-27T00:00:00",
          "2019-08-28T00:00:00",
          "2019-08-29T00:00:00",
          "2019-08-30T00:00:00",
          "2019-09-03T00:00:00",
          "2019-09-04T00:00:00",
          "2019-09-05T00:00:00",
          "2019-09-06T00:00:00",
          "2019-09-09T00:00:00",
          "2019-09-11T00:00:00",
          "2019-09-12T00:00:00",
          "2019-09-13T00:00:00",
          "2019-09-16T00:00:00",
          "2019-09-17T00:00:00",
          "2019-09-18T00:00:00",
          "2019-09-19T00:00:00",
          "2019-09-20T00:00:00",
          "2019-09-23T00:00:00",
          "2019-09-23T00:00:00",
          "2019-09-24T00:00:00",
          "2019-09-25T00:00:00",
          "2019-09-26T00:00:00",
          "2019-09-27T00:00:00",
          "2019-09-30T00:00:00",
          "2019-10-01T00:00:00",
          "2019-10-03T00:00:00",
          "2019-10-04T00:00:00",
          "2019-10-07T00:00:00",
          "2019-10-09T00:00:00",
          "2019-10-10T00:00:00",
          "2019-10-11T00:00:00",
          "2019-10-14T00:00:00",
          "2019-10-15T00:00:00",
          "2019-10-16T00:00:00",
          "2019-10-17T00:00:00",
          "2019-10-18T00:00:00",
          "2019-10-22T00:00:00",
          "2019-10-23T00:00:00",
          "2019-10-24T00:00:00",
          "2019-10-25T00:00:00",
          "2019-10-27T00:00:00",
          "2019-10-29T00:00:00",
          "2019-10-30T00:00:00",
          "2019-10-31T00:00:00",
          "2019-11-01T00:00:00",
          "2019-11-04T00:00:00",
          "2019-11-05T00:00:00",
          "2019-11-06T00:00:00",
          "2019-11-07T00:00:00",
          "2019-11-08T00:00:00",
          "2019-11-11T00:00:00",
          "2019-11-13T00:00:00",
          "2019-11-14T00:00:00",
          "2019-11-15T00:00:00",
          "2019-11-18T00:00:00",
          "2019-11-19T00:00:00",
          "2019-11-20T00:00:00",
          "2019-11-21T00:00:00",
          "2019-11-22T00:00:00",
          "2019-11-25T00:00:00",
          "2019-11-26T00:00:00",
          "2019-11-27T00:00:00",
          "2019-11-28T00:00:00",
          "2019-11-29T00:00:00",
          "2019-12-02T00:00:00",
          "2019-12-03T00:00:00",
          "2019-12-04T00:00:00",
          "2019-12-05T00:00:00",
          "2019-12-06T00:00:00",
          "2019-12-09T00:00:00",
          "2019-12-10T00:00:00",
          "2019-12-11T00:00:00",
          "2019-12-12T00:00:00",
          "2019-12-13T00:00:00",
          "2019-12-16T00:00:00",
          "2019-12-17T00:00:00",
          "2019-12-18T00:00:00",
          "2019-12-19T00:00:00",
          "2019-12-20T00:00:00",
          "2019-12-23T00:00:00",
          "2019-12-24T00:00:00",
          "2019-12-26T00:00:00",
          "2019-12-27T00:00:00",
          "2019-12-30T00:00:00",
          "2019-12-31T00:00:00",
          "2020-01-01T00:00:00",
          "2020-01-02T00:00:00",
          "2020-01-03T00:00:00",
          "2020-01-06T00:00:00",
          "2020-01-07T00:00:00",
          "2020-01-08T00:00:00",
          "2020-01-09T00:00:00",
          "2020-01-10T00:00:00",
          "2020-01-13T00:00:00",
          "2020-01-14T00:00:00",
          "2020-01-15T00:00:00",
          "2020-01-16T00:00:00",
          "2020-01-17T00:00:00",
          "2020-01-20T00:00:00",
          "2020-01-21T00:00:00",
          "2020-01-22T00:00:00",
          "2020-01-23T00:00:00",
          "2020-01-24T00:00:00",
          "2020-01-27T00:00:00",
          "2020-01-28T00:00:00",
          "2020-01-29T00:00:00",
          "2020-01-30T00:00:00",
          "2020-01-31T00:00:00",
          "2020-02-01T00:00:00",
          "2020-02-03T00:00:00",
          "2020-02-04T00:00:00",
          "2020-02-05T00:00:00",
          "2020-02-06T00:00:00",
          "2020-02-07T00:00:00",
          "2020-02-10T00:00:00",
          "2020-02-11T00:00:00",
          "2020-02-12T00:00:00",
          "2020-02-13T00:00:00",
          "2020-02-14T00:00:00",
          "2020-02-17T00:00:00",
          "2020-02-18T00:00:00",
          "2020-02-19T00:00:00",
          "2020-02-20T00:00:00",
          "2020-02-24T00:00:00",
          "2020-02-25T00:00:00",
          "2020-02-26T00:00:00",
          "2020-02-27T00:00:00",
          "2020-02-28T00:00:00",
          "2020-03-02T00:00:00",
          "2020-03-03T00:00:00",
          "2020-03-04T00:00:00",
          "2020-03-05T00:00:00",
          "2020-03-06T00:00:00",
          "2020-03-09T00:00:00",
          "2020-03-11T00:00:00",
          "2020-03-12T00:00:00",
          "2020-03-13T00:00:00",
          "2020-03-16T00:00:00",
          "2020-03-17T00:00:00",
          "2020-03-18T00:00:00",
          "2020-03-19T00:00:00",
          "2020-03-20T00:00:00",
          "2020-03-23T00:00:00",
          "2020-03-24T00:00:00",
          "2020-03-25T00:00:00",
          "2020-03-26T00:00:00",
          "2020-03-27T00:00:00",
          "2020-03-30T00:00:00",
          "2020-03-31T00:00:00",
          "2020-04-01T00:00:00",
          "2020-04-03T00:00:00",
          "2020-04-07T00:00:00",
          "2020-04-08T00:00:00",
          "2020-04-09T00:00:00",
          "2020-04-13T00:00:00",
          "2020-04-15T00:00:00",
          "2020-04-16T00:00:00",
          "2020-04-17T00:00:00",
          "2020-04-20T00:00:00",
          "2020-04-21T00:00:00",
          "2020-04-22T00:00:00",
          "2020-04-23T00:00:00",
          "2020-04-24T00:00:00",
          "2020-04-27T00:00:00",
          "2020-04-28T00:00:00",
          "2020-04-29T00:00:00",
          "2020-04-30T00:00:00",
          "2020-05-04T00:00:00",
          "2020-05-05T00:00:00",
          "2020-05-06T00:00:00",
          "2020-05-07T00:00:00",
          "2020-05-08T00:00:00",
          "2020-05-11T00:00:00",
          "2020-05-12T00:00:00",
          "2020-05-13T00:00:00",
          "2020-05-14T00:00:00",
          "2020-05-15T00:00:00",
          "2020-05-18T00:00:00",
          "2020-05-19T00:00:00",
          "2020-05-20T00:00:00",
          "2020-05-21T00:00:00",
          "2020-05-22T00:00:00",
          "2020-05-26T00:00:00",
          "2020-05-27T00:00:00",
          "2020-05-28T00:00:00",
          "2020-05-29T00:00:00",
          "2020-06-01T00:00:00",
          "2020-06-02T00:00:00",
          "2020-06-03T00:00:00",
          "2020-06-04T00:00:00",
          "2020-06-05T00:00:00",
          "2020-06-08T00:00:00",
          "2020-06-09T00:00:00",
          "2020-06-10T00:00:00",
          "2020-06-11T00:00:00",
          "2020-06-12T00:00:00",
          "2020-06-15T00:00:00",
          "2020-06-16T00:00:00",
          "2020-06-17T00:00:00",
          "2020-06-18T00:00:00",
          "2020-06-19T00:00:00",
          "2020-06-22T00:00:00",
          "2020-06-23T00:00:00",
          "2020-06-24T00:00:00",
          "2020-06-25T00:00:00",
          "2020-06-26T00:00:00",
          "2020-06-29T00:00:00",
          "2020-06-30T00:00:00",
          "2020-07-01T00:00:00",
          "2020-07-02T00:00:00",
          "2020-07-03T00:00:00",
          "2020-07-06T00:00:00",
          "2020-07-07T00:00:00",
          "2020-07-08T00:00:00",
          "2020-07-09T00:00:00",
          "2020-07-10T00:00:00",
          "2020-07-13T00:00:00",
          "2020-07-14T00:00:00",
          "2020-07-15T00:00:00",
          "2020-07-16T00:00:00",
          "2020-07-17T00:00:00",
          "2020-07-20T00:00:00",
          "2020-07-21T00:00:00",
          "2020-07-22T00:00:00",
          "2020-07-23T00:00:00",
          "2020-07-24T00:00:00",
          "2020-07-27T00:00:00",
          "2020-07-28T00:00:00",
          "2020-07-29T00:00:00",
          "2020-07-30T00:00:00",
          "2020-07-31T00:00:00",
          "2020-08-03T00:00:00",
          "2020-08-04T00:00:00",
          "2020-08-05T00:00:00",
          "2020-08-06T00:00:00",
          "2020-08-07T00:00:00",
          "2020-08-10T00:00:00",
          "2020-08-11T00:00:00",
          "2020-08-12T00:00:00",
          "2020-08-13T00:00:00",
          "2020-08-13T00:00:00",
          "2020-08-14T00:00:00",
          "2020-08-14T00:00:00",
          "2020-08-17T00:00:00",
          "2020-08-17T00:00:00",
          "2020-08-18T00:00:00",
          "2020-08-18T00:00:00",
          "2020-08-19T00:00:00",
          "2020-08-19T00:00:00",
          "2020-08-20T00:00:00",
          "2020-08-20T00:00:00",
          "2020-08-21T00:00:00",
          "2020-08-21T00:00:00",
          "2020-08-24T00:00:00",
          "2020-08-24T00:00:00",
          "2020-08-25T00:00:00",
          "2020-08-25T00:00:00",
          "2020-08-26T00:00:00",
          "2020-08-26T00:00:00",
          "2020-08-27T00:00:00",
          "2020-08-27T00:00:00",
          "2020-08-28T00:00:00",
          "2020-08-28T00:00:00",
          "2020-08-31T00:00:00",
          "2020-08-31T00:00:00",
          "2020-09-01T00:00:00",
          "2020-09-01T00:00:00",
          "2020-09-02T00:00:00",
          "2020-09-02T00:00:00",
          "2020-09-03T00:00:00",
          "2020-09-03T00:00:00",
          "2020-09-04T00:00:00",
          "2020-09-04T00:00:00",
          "2020-09-07T00:00:00",
          "2020-09-07T00:00:00",
          "2020-09-08T00:00:00",
          "2020-09-08T00:00:00",
          "2020-09-09T00:00:00",
          "2020-09-09T00:00:00",
          "2020-09-10T00:00:00",
          "2020-09-10T00:00:00",
          "2020-09-11T00:00:00",
          "2020-09-11T00:00:00",
          "2020-09-14T00:00:00",
          "2020-09-14T00:00:00",
          "2020-09-15T00:00:00",
          "2020-09-15T00:00:00",
          "2020-09-16T00:00:00",
          "2020-09-16T00:00:00",
          "2020-09-17T00:00:00",
          "2020-09-17T00:00:00",
          "2020-09-18T00:00:00",
          "2020-09-18T00:00:00",
          "2020-09-21T00:00:00",
          "2020-09-21T00:00:00",
          "2020-09-22T00:00:00",
          "2020-09-22T00:00:00",
          "2020-09-23T00:00:00",
          "2020-09-23T00:00:00",
          "2020-09-24T00:00:00",
          "2020-09-24T00:00:00",
          "2020-09-25T00:00:00",
          "2020-09-25T00:00:00",
          "2020-09-28T00:00:00",
          "2020-09-28T00:00:00",
          "2020-09-29T00:00:00",
          "2020-09-29T00:00:00",
          "2020-09-30T00:00:00",
          "2020-09-30T00:00:00",
          "2020-10-01T00:00:00",
          "2020-10-01T00:00:00",
          "2020-10-05T00:00:00",
          "2020-10-05T00:00:00",
          "2020-10-06T00:00:00",
          "2020-10-06T00:00:00",
          "2020-10-07T00:00:00",
          "2020-10-07T00:00:00",
          "2020-10-08T00:00:00",
          "2020-10-08T00:00:00",
          "2020-10-09T00:00:00",
          "2020-10-09T00:00:00",
          "2020-10-12T00:00:00",
          "2020-10-12T00:00:00",
          "2020-10-13T00:00:00",
          "2020-10-13T00:00:00",
          "2020-10-14T00:00:00",
          "2020-10-14T00:00:00",
          "2020-10-15T00:00:00",
          "2020-10-15T00:00:00",
          "2020-10-16T00:00:00",
          "2020-10-16T00:00:00",
          "2020-10-19T00:00:00",
          "2020-10-19T00:00:00",
          "2020-10-20T00:00:00",
          "2020-10-20T00:00:00",
          "2020-10-21T00:00:00",
          "2020-10-21T00:00:00",
          "2020-10-22T00:00:00",
          "2020-10-22T00:00:00",
          "2020-10-23T00:00:00",
          "2020-10-23T00:00:00",
          "2020-10-26T00:00:00",
          "2020-10-26T00:00:00",
          "2020-10-27T00:00:00",
          "2020-10-27T00:00:00",
          "2020-10-28T00:00:00",
          "2020-10-28T00:00:00",
          "2020-10-29T00:00:00",
          "2020-10-29T00:00:00",
          "2020-10-30T00:00:00",
          "2020-10-30T00:00:00",
          "2020-11-02T00:00:00",
          "2020-11-02T00:00:00",
          "2020-11-03T00:00:00",
          "2020-11-03T00:00:00",
          "2020-11-04T00:00:00",
          "2020-11-04T00:00:00",
          "2020-11-05T00:00:00",
          "2020-11-05T00:00:00",
          "2020-11-06T00:00:00",
          "2020-11-06T00:00:00",
          "2020-11-09T00:00:00",
          "2020-11-09T00:00:00",
          "2020-11-10T00:00:00",
          "2020-11-10T00:00:00",
          "2020-11-11T00:00:00",
          "2020-11-11T00:00:00",
          "2020-11-12T00:00:00",
          "2020-11-12T00:00:00",
          "2020-11-13T00:00:00",
          "2020-11-13T00:00:00",
          "2020-11-14T00:00:00",
          "2020-11-14T00:00:00",
          "2020-11-17T00:00:00",
          "2020-11-17T00:00:00",
          "2020-11-18T00:00:00",
          "2020-11-18T00:00:00",
          "2020-11-19T00:00:00",
          "2020-11-19T00:00:00",
          "2020-11-20T00:00:00",
          "2020-11-20T00:00:00",
          "2020-11-23T00:00:00",
          "2020-11-23T00:00:00",
          "2020-11-24T00:00:00",
          "2020-11-24T00:00:00",
          "2020-11-25T00:00:00",
          "2020-11-25T00:00:00",
          "2020-11-26T00:00:00",
          "2020-11-26T00:00:00",
          "2020-11-27T00:00:00",
          "2020-11-27T00:00:00",
          "2020-12-01T00:00:00",
          "2020-12-01T00:00:00",
          "2020-12-02T00:00:00",
          "2020-12-02T00:00:00",
          "2020-12-03T00:00:00",
          "2020-12-03T00:00:00",
          "2020-12-04T00:00:00",
          "2020-12-04T00:00:00",
          "2020-12-07T00:00:00",
          "2020-12-07T00:00:00",
          "2020-12-08T00:00:00",
          "2020-12-08T00:00:00",
          "2020-12-09T00:00:00",
          "2020-12-09T00:00:00",
          "2020-12-10T00:00:00",
          "2020-12-10T00:00:00",
          "2020-12-11T00:00:00",
          "2020-12-11T00:00:00",
          "2020-12-14T00:00:00",
          "2020-12-14T00:00:00",
          "2020-12-15T00:00:00",
          "2020-12-15T00:00:00",
          "2020-12-16T00:00:00",
          "2020-12-16T00:00:00",
          "2020-12-17T00:00:00",
          "2020-12-17T00:00:00",
          "2020-12-18T00:00:00",
          "2020-12-18T00:00:00",
          "2020-12-21T00:00:00",
          "2020-12-21T00:00:00",
          "2020-12-22T00:00:00",
          "2020-12-22T00:00:00",
          "2020-12-23T00:00:00",
          "2020-12-23T00:00:00",
          "2020-12-24T00:00:00",
          "2020-12-24T00:00:00",
          "2020-12-28T00:00:00",
          "2020-12-28T00:00:00",
          "2020-12-29T00:00:00",
          "2020-12-29T00:00:00",
          "2020-12-30T00:00:00",
          "2020-12-30T00:00:00",
          "2020-12-31T00:00:00",
          "2020-12-31T00:00:00",
          "2021-01-01T00:00:00",
          "2021-01-01T00:00:00",
          "2021-01-04T00:00:00",
          "2021-01-04T00:00:00",
          "2021-01-05T00:00:00",
          "2021-01-05T00:00:00",
          "2021-01-06T00:00:00",
          "2021-01-06T00:00:00",
          "2021-01-07T00:00:00",
          "2021-01-07T00:00:00",
          "2021-01-08T00:00:00",
          "2021-01-08T00:00:00",
          "2021-01-11T00:00:00",
          "2021-01-11T00:00:00",
          "2021-01-12T00:00:00",
          "2021-01-12T00:00:00",
          "2021-01-13T00:00:00",
          "2021-01-13T00:00:00",
          "2021-01-14T00:00:00",
          "2021-01-14T00:00:00",
          "2021-01-15T00:00:00",
          "2021-01-15T00:00:00",
          "2021-01-18T00:00:00",
          "2021-01-18T00:00:00",
          "2021-01-19T00:00:00",
          "2021-01-19T00:00:00",
          "2021-01-20T00:00:00",
          "2021-01-20T00:00:00",
          "2021-01-21T00:00:00",
          "2021-01-21T00:00:00",
          "2021-01-22T00:00:00",
          "2021-01-22T00:00:00",
          "2021-01-25T00:00:00",
          "2021-01-25T00:00:00",
          "2021-01-27T00:00:00",
          "2021-01-27T00:00:00",
          "2021-01-28T00:00:00",
          "2021-01-28T00:00:00",
          "2021-01-29T00:00:00",
          "2021-01-29T00:00:00",
          "2021-02-01T00:00:00",
          "2021-02-01T00:00:00",
          "2021-02-02T00:00:00",
          "2021-02-02T00:00:00",
          "2021-02-03T00:00:00",
          "2021-02-03T00:00:00",
          "2021-02-04T00:00:00",
          "2021-02-04T00:00:00",
          "2021-02-05T00:00:00",
          "2021-02-05T00:00:00",
          "2021-02-08T00:00:00",
          "2021-02-08T00:00:00",
          "2021-02-09T00:00:00",
          "2021-02-09T00:00:00",
          "2021-02-10T00:00:00",
          "2021-02-10T00:00:00",
          "2021-02-11T00:00:00",
          "2021-02-11T00:00:00",
          "2021-02-12T00:00:00",
          "2021-02-12T00:00:00",
          "2021-02-15T00:00:00",
          "2021-02-15T00:00:00",
          "2021-02-16T00:00:00",
          "2021-02-16T00:00:00",
          "2021-02-17T00:00:00",
          "2021-02-17T00:00:00",
          "2021-02-18T00:00:00",
          "2021-02-18T00:00:00",
          "2021-02-19T00:00:00",
          "2021-02-19T00:00:00",
          "2021-02-22T00:00:00",
          "2021-02-22T00:00:00",
          "2021-02-23T00:00:00",
          "2021-02-23T00:00:00",
          "2021-02-24T00:00:00",
          "2021-02-24T00:00:00",
          "2021-02-25T00:00:00",
          "2021-02-25T00:00:00",
          "2021-02-26T00:00:00",
          "2021-02-26T00:00:00",
          "2021-03-01T00:00:00",
          "2021-03-01T00:00:00",
          "2021-03-02T00:00:00",
          "2021-03-02T00:00:00",
          "2021-03-03T00:00:00",
          "2021-03-03T00:00:00",
          "2021-03-04T00:00:00",
          "2021-03-04T00:00:00",
          "2021-03-05T00:00:00",
          "2021-03-05T00:00:00",
          "2021-03-08T00:00:00",
          "2021-03-08T00:00:00",
          "2021-03-09T00:00:00",
          "2021-03-09T00:00:00",
          "2021-03-10T00:00:00",
          "2021-03-10T00:00:00",
          "2021-03-12T00:00:00",
          "2021-03-12T00:00:00",
          "2021-03-15T00:00:00",
          "2021-03-15T00:00:00",
          "2021-03-16T00:00:00",
          "2021-03-16T00:00:00",
          "2021-03-17T00:00:00",
          "2021-03-17T00:00:00",
          "2021-03-18T00:00:00",
          "2021-03-18T00:00:00",
          "2021-03-19T00:00:00",
          "2021-03-19T00:00:00",
          "2021-03-22T00:00:00",
          "2021-03-22T00:00:00",
          "2021-03-23T00:00:00",
          "2021-03-23T00:00:00",
          "2021-03-24T00:00:00",
          "2021-03-24T00:00:00",
          "2021-03-25T00:00:00",
          "2021-03-25T00:00:00"
         ],
         "y": [
          1914.1,
          1942.1,
          1964,
          1951,
          1998.95,
          2008.75,
          2041.9,
          2064.5,
          2052,
          2067,
          2029.95,
          2018.1,
          2023,
          2012,
          2027.2,
          2005,
          1958.5,
          1930,
          1984.7,
          1951.45,
          1976.95,
          1995.55,
          2018,
          2002.8,
          1965.9,
          1964.5,
          1930.1,
          1914.15,
          1926.8,
          1957,
          1964.2,
          1939.5,
          1945.1,
          1996,
          2120.05,
          2118,
          2141.55,
          2128.95,
          2123,
          2159.3,
          2158,
          2144,
          2179.1,
          2184,
          2230.35,
          2229.15,
          2184,
          2207,
          2192,
          2184.55,
          2185,
          2196,
          2182.95,
          2177,
          2156,
          2180.9,
          2203,
          2142.85,
          2150,
          2171,
          2164.25,
          2196.3,
          2194.4,
          2250.1,
          2282,
          2275.15,
          2278.1,
          2270,
          2263.1,
          2240,
          2230.95,
          2260.65,
          2250.8,
          2270,
          2277.55,
          2285.4,
          2338,
          2302,
          2182.3,
          2140,
          2179.9,
          2194,
          2165,
          2160,
          2125.5,
          2123.15,
          2085.1,
          2135.75,
          2151.7,
          2185.1,
          2171,
          2176.3,
          2214,
          2101.85,
          2113.9,
          2099,
          2110.9,
          2090.8,
          2069,
          2012.3,
          2057.1,
          2150,
          2182.6,
          2189.9,
          2129.7,
          2165,
          2088.45,
          2099.75,
          2041,
          2044,
          2066.7,
          2066,
          2082.8,
          2089.85,
          2044.1,
          1995.6,
          1988.85,
          1972.5,
          2050.65,
          2045,
          2159.9,
          2131,
          2067.85,
          2065.9,
          2034,
          1977.05,
          1991.85,
          1976.45,
          1975.05,
          1969,
          2005,
          1987.2,
          2007,
          2009,
          2013,
          2051.8,
          2085.45,
          2096,
          2116,
          2144.2,
          2145.15,
          2101,
          2103.9,
          2114.75,
          2103,
          2137,
          2130.8,
          2179.8,
          2182.55,
          2221,
          2250,
          2230,
          2236.15,
          2207.45,
          2222.8,
          2226,
          2239,
          2215.7,
          2196,
          2210.4,
          2240,
          2294,
          2298.8,
          2336,
          2307.9,
          2296,
          2306.65,
          2321.9,
          2317,
          2321.25,
          2262,
          2308,
          2288.55,
          2320.15,
          2317.25,
          2351.2,
          2375.95,
          2426.25,
          2443.5,
          2412.1,
          2403.5,
          2432,
          2413,
          2416.6,
          2443,
          2440,
          2413.05,
          2435.75,
          2469.9,
          2452.05,
          2389.95,
          2420,
          2400,
          2454,
          2460,
          2461.5,
          2488.3,
          2491.7,
          2481.45,
          2452.7,
          2454.3,
          2465,
          2418,
          2429,
          2449.15,
          2389.95,
          2433.4,
          2406.3,
          2411,
          2416.4,
          2262,
          2265,
          2344.4,
          2390.5,
          2433,
          2405,
          2412.1,
          2436,
          2433,
          2404,
          2400.25,
          2349.9,
          2324.05,
          2379,
          2368.5,
          2303.85,
          2307,
          2276.5,
          2265.95,
          2186,
          2183.7,
          2194.95,
          2209.1,
          2189,
          2109.5,
          2025.5,
          2040.35,
          1874.5,
          2072.65,
          1858,
          1755.85,
          1633.25,
          1620,
          1776.9,
          1520.7,
          1504.35,
          1655.6,
          1755,
          1755.45,
          1564,
          1625,
          1588,
          1499.75,
          1570,
          1560,
          1702,
          1662,
          1597,
          1630,
          1680,
          1734,
          1665,
          1670,
          1656,
          1588,
          1600.6,
          1724,
          1827.95,
          1916.15,
          1724.85,
          1697,
          1735,
          1707,
          1689.75,
          1660,
          1671.9,
          1716,
          1636.2,
          1634,
          1518.55,
          1545,
          1634.5,
          1595,
          1515.85,
          1506.4,
          1570.55,
          1633,
          1667,
          1732,
          1817,
          1833,
          1761.65,
          1775,
          1764,
          1771,
          1810.55,
          1790,
          1790,
          1752,
          1820,
          1793.4,
          1847.5,
          1840.3,
          1820.5,
          1843.15,
          1797.65,
          1775.95,
          1772,
          1742.75,
          1761,
          1836.8,
          1892.85,
          1883,
          1871.55,
          1883.85,
          1872,
          1944.5,
          1888.5,
          1853.65,
          1793.1,
          1797,
          1790,
          1812.05,
          1804.05,
          1887,
          1897.7,
          1872.25,
          1841,
          1853,
          1892,
          1879.65,
          1804.95,
          1786.5,
          1744,
          1783.85,
          1780,
          1778.45,
          1779.9,
          1796.6,
          1829,
          1821,
          1810,
          300,
          1793.75,
          309.95,
          1801.95,
          314.95,
          1819.05,
          321.2,
          1827.55,
          324.9,
          1786.2,
          320,
          1803,
          328.5,
          1828.1,
          335,
          1831.4,
          335,
          1810.75,
          333.8,
          1863.5,
          339.95,
          1881,
          344,
          1825,
          327,
          1850.95,
          336,
          1829.5,
          335,
          1811.25,
          330.2,
          1771,
          328,
          1790.1,
          328,
          1775.35,
          326.25,
          1763.5,
          324.95,
          1770.5,
          322.05,
          1765.05,
          318,
          1736.05,
          314,
          1763,
          315,
          1768,
          319,
          1749,
          318.05,
          1732.6,
          314.95,
          1707.75,
          310,
          1676.4,
          300,
          1667,
          298.2,
          1636.25,
          300,
          1652.75,
          300,
          1685,
          300,
          1712.65,
          299,
          1733,
          298.5,
          1787.8,
          300,
          1782.35,
          304,
          1920,
          320,
          1952,
          319.95,
          1947.8,
          320.25,
          1966,
          332.4,
          1963.95,
          332,
          1939,
          325,
          1978.1,
          330,
          1947.05,
          320,
          1958.6,
          326,
          2033.25,
          332.9,
          2017.1,
          329,
          2045.8,
          345.15,
          2046,
          345,
          2062.75,
          365,
          2073,
          370,
          2029.75,
          364,
          1969.1,
          348.1,
          1937.55,
          351.45,
          1921,
          350,
          2022.3,
          374,
          2121.35,
          415.15,
          2085,
          440,
          2102.3,
          435,
          2136.35,
          445.15,
          2156,
          479,
          2268.95,
          526.9,
          2318,
          561,
          2326.05,
          553,
          2306.7,
          528,
          2312.6,
          539,
          2344.85,
          555,
          2360,
          570,
          2327.5,
          548.5,
          2329,
          559.45,
          2253.05,
          504,
          2220,
          500.15,
          2186.8,
          525,
          2242.7,
          525,
          2238,
          535,
          2296.2,
          572,
          2274,
          549,
          2252.75,
          542.55,
          2247.2,
          543,
          2303,
          575,
          2309,
          569,
          2306,
          549.6,
          2289.8,
          550,
          2297,
          542.7,
          2300.55,
          548,
          2350.35,
          582.75,
          2415,
          624.05,
          2490.1,
          665,
          2472.8,
          666,
          2404.45,
          620,
          2398.5,
          648,
          2405.9,
          645,
          2451.85,
          662.5,
          2485,
          677,
          2511,
          717,
          2521.7,
          714.95,
          2549.95,
          755,
          2565,
          760,
          2579,
          756.15,
          2654.95,
          798.5,
          2631,
          783,
          2653.45,
          829.5,
          2657.65,
          820,
          2747.1,
          850,
          2750,
          850,
          2672,
          792,
          2681.1,
          790,
          2635,
          765,
          2569.4,
          717.9,
          2651.05,
          768.9,
          2673,
          760,
          2671,
          770,
          2589.95,
          725.45,
          2560,
          698,
          2470,
          670.95,
          2431.5,
          658.5,
          2378,
          662,
          2580,
          731.25,
          2658.7,
          763.85,
          2702.95,
          802,
          2707,
          809,
          2721,
          864,
          2735.1,
          870,
          2745,
          880,
          2777.2,
          880,
          2753.4,
          880,
          2789,
          885.15,
          2861.55,
          933,
          2853.85,
          930,
          2797.55,
          885,
          2750,
          845,
          2740,
          840.3,
          2655,
          826,
          2629,
          825,
          2709,
          875,
          2687,
          865,
          2539.9,
          806.55,
          2610,
          840,
          2575,
          833.6,
          2654.85,
          864,
          2584.9,
          826,
          2546.9,
          810,
          2512,
          800,
          2578,
          850,
          2600,
          840,
          2568,
          826.5,
          2532.9,
          830,
          2517.5,
          820,
          2510,
          800,
          2507.8,
          786,
          2525.4,
          780,
          2536.2,
          774.95,
          2512.3,
          774,
          2465,
          756.4,
          2478,
          789
         ]
        }
       ],
       "layout": {
        "template": {
         "data": {
          "bar": [
           {
            "error_x": {
             "color": "#2a3f5f"
            },
            "error_y": {
             "color": "#2a3f5f"
            },
            "marker": {
             "line": {
              "color": "#E5ECF6",
              "width": 0.5
             }
            },
            "type": "bar"
           }
          ],
          "barpolar": [
           {
            "marker": {
             "line": {
              "color": "#E5ECF6",
              "width": 0.5
             }
            },
            "type": "barpolar"
           }
          ],
          "carpet": [
           {
            "aaxis": {
             "endlinecolor": "#2a3f5f",
             "gridcolor": "white",
             "linecolor": "white",
             "minorgridcolor": "white",
             "startlinecolor": "#2a3f5f"
            },
            "baxis": {
             "endlinecolor": "#2a3f5f",
             "gridcolor": "white",
             "linecolor": "white",
             "minorgridcolor": "white",
             "startlinecolor": "#2a3f5f"
            },
            "type": "carpet"
           }
          ],
          "choropleth": [
           {
            "colorbar": {
             "outlinewidth": 0,
             "ticks": ""
            },
            "type": "choropleth"
           }
          ],
          "contour": [
           {
            "colorbar": {
             "outlinewidth": 0,
             "ticks": ""
            },
            "colorscale": [
             [
              0,
              "#0d0887"
             ],
             [
              0.1111111111111111,
              "#46039f"
             ],
             [
              0.2222222222222222,
              "#7201a8"
             ],
             [
              0.3333333333333333,
              "#9c179e"
             ],
             [
              0.4444444444444444,
              "#bd3786"
             ],
             [
              0.5555555555555556,
              "#d8576b"
             ],
             [
              0.6666666666666666,
              "#ed7953"
             ],
             [
              0.7777777777777778,
              "#fb9f3a"
             ],
             [
              0.8888888888888888,
              "#fdca26"
             ],
             [
              1,
              "#f0f921"
             ]
            ],
            "type": "contour"
           }
          ],
          "contourcarpet": [
           {
            "colorbar": {
             "outlinewidth": 0,
             "ticks": ""
            },
            "type": "contourcarpet"
           }
          ],
          "heatmap": [
           {
            "colorbar": {
             "outlinewidth": 0,
             "ticks": ""
            },
            "colorscale": [
             [
              0,
              "#0d0887"
             ],
             [
              0.1111111111111111,
              "#46039f"
             ],
             [
              0.2222222222222222,
              "#7201a8"
             ],
             [
              0.3333333333333333,
              "#9c179e"
             ],
             [
              0.4444444444444444,
              "#bd3786"
             ],
             [
              0.5555555555555556,
              "#d8576b"
             ],
             [
              0.6666666666666666,
              "#ed7953"
             ],
             [
              0.7777777777777778,
              "#fb9f3a"
             ],
             [
              0.8888888888888888,
              "#fdca26"
             ],
             [
              1,
              "#f0f921"
             ]
            ],
            "type": "heatmap"
           }
          ],
          "heatmapgl": [
           {
            "colorbar": {
             "outlinewidth": 0,
             "ticks": ""
            },
            "colorscale": [
             [
              0,
              "#0d0887"
             ],
             [
              0.1111111111111111,
              "#46039f"
             ],
             [
              0.2222222222222222,
              "#7201a8"
             ],
             [
              0.3333333333333333,
              "#9c179e"
             ],
             [
              0.4444444444444444,
              "#bd3786"
             ],
             [
              0.5555555555555556,
              "#d8576b"
             ],
             [
              0.6666666666666666,
              "#ed7953"
             ],
             [
              0.7777777777777778,
              "#fb9f3a"
             ],
             [
              0.8888888888888888,
              "#fdca26"
             ],
             [
              1,
              "#f0f921"
             ]
            ],
            "type": "heatmapgl"
           }
          ],
          "histogram": [
           {
            "marker": {
             "colorbar": {
              "outlinewidth": 0,
              "ticks": ""
             }
            },
            "type": "histogram"
           }
          ],
          "histogram2d": [
           {
            "colorbar": {
             "outlinewidth": 0,
             "ticks": ""
            },
            "colorscale": [
             [
              0,
              "#0d0887"
             ],
             [
              0.1111111111111111,
              "#46039f"
             ],
             [
              0.2222222222222222,
              "#7201a8"
             ],
             [
              0.3333333333333333,
              "#9c179e"
             ],
             [
              0.4444444444444444,
              "#bd3786"
             ],
             [
              0.5555555555555556,
              "#d8576b"
             ],
             [
              0.6666666666666666,
              "#ed7953"
             ],
             [
              0.7777777777777778,
              "#fb9f3a"
             ],
             [
              0.8888888888888888,
              "#fdca26"
             ],
             [
              1,
              "#f0f921"
             ]
            ],
            "type": "histogram2d"
           }
          ],
          "histogram2dcontour": [
           {
            "colorbar": {
             "outlinewidth": 0,
             "ticks": ""
            },
            "colorscale": [
             [
              0,
              "#0d0887"
             ],
             [
              0.1111111111111111,
              "#46039f"
             ],
             [
              0.2222222222222222,
              "#7201a8"
             ],
             [
              0.3333333333333333,
              "#9c179e"
             ],
             [
              0.4444444444444444,
              "#bd3786"
             ],
             [
              0.5555555555555556,
              "#d8576b"
             ],
             [
              0.6666666666666666,
              "#ed7953"
             ],
             [
              0.7777777777777778,
              "#fb9f3a"
             ],
             [
              0.8888888888888888,
              "#fdca26"
             ],
             [
              1,
              "#f0f921"
             ]
            ],
            "type": "histogram2dcontour"
           }
          ],
          "mesh3d": [
           {
            "colorbar": {
             "outlinewidth": 0,
             "ticks": ""
            },
            "type": "mesh3d"
           }
          ],
          "parcoords": [
           {
            "line": {
             "colorbar": {
              "outlinewidth": 0,
              "ticks": ""
             }
            },
            "type": "parcoords"
           }
          ],
          "pie": [
           {
            "automargin": true,
            "type": "pie"
           }
          ],
          "scatter": [
           {
            "marker": {
             "colorbar": {
              "outlinewidth": 0,
              "ticks": ""
             }
            },
            "type": "scatter"
           }
          ],
          "scatter3d": [
           {
            "line": {
             "colorbar": {
              "outlinewidth": 0,
              "ticks": ""
             }
            },
            "marker": {
             "colorbar": {
              "outlinewidth": 0,
              "ticks": ""
             }
            },
            "type": "scatter3d"
           }
          ],
          "scattercarpet": [
           {
            "marker": {
             "colorbar": {
              "outlinewidth": 0,
              "ticks": ""
             }
            },
            "type": "scattercarpet"
           }
          ],
          "scattergeo": [
           {
            "marker": {
             "colorbar": {
              "outlinewidth": 0,
              "ticks": ""
             }
            },
            "type": "scattergeo"
           }
          ],
          "scattergl": [
           {
            "marker": {
             "colorbar": {
              "outlinewidth": 0,
              "ticks": ""
             }
            },
            "type": "scattergl"
           }
          ],
          "scattermapbox": [
           {
            "marker": {
             "colorbar": {
              "outlinewidth": 0,
              "ticks": ""
             }
            },
            "type": "scattermapbox"
           }
          ],
          "scatterpolar": [
           {
            "marker": {
             "colorbar": {
              "outlinewidth": 0,
              "ticks": ""
             }
            },
            "type": "scatterpolar"
           }
          ],
          "scatterpolargl": [
           {
            "marker": {
             "colorbar": {
              "outlinewidth": 0,
              "ticks": ""
             }
            },
            "type": "scatterpolargl"
           }
          ],
          "scatterternary": [
           {
            "marker": {
             "colorbar": {
              "outlinewidth": 0,
              "ticks": ""
             }
            },
            "type": "scatterternary"
           }
          ],
          "surface": [
           {
            "colorbar": {
             "outlinewidth": 0,
             "ticks": ""
            },
            "colorscale": [
             [
              0,
              "#0d0887"
             ],
             [
              0.1111111111111111,
              "#46039f"
             ],
             [
              0.2222222222222222,
              "#7201a8"
             ],
             [
              0.3333333333333333,
              "#9c179e"
             ],
             [
              0.4444444444444444,
              "#bd3786"
             ],
             [
              0.5555555555555556,
              "#d8576b"
             ],
             [
              0.6666666666666666,
              "#ed7953"
             ],
             [
              0.7777777777777778,
              "#fb9f3a"
             ],
             [
              0.8888888888888888,
              "#fdca26"
             ],
             [
              1,
              "#f0f921"
             ]
            ],
            "type": "surface"
           }
          ],
          "table": [
           {
            "cells": {
             "fill": {
              "color": "#EBF0F8"
             },
             "line": {
              "color": "white"
             }
            },
            "header": {
             "fill": {
              "color": "#C8D4E3"
             },
             "line": {
              "color": "white"
             }
            },
            "type": "table"
           }
          ]
         },
         "layout": {
          "annotationdefaults": {
           "arrowcolor": "#2a3f5f",
           "arrowhead": 0,
           "arrowwidth": 1
          },
          "autotypenumbers": "strict",
          "coloraxis": {
           "colorbar": {
            "outlinewidth": 0,
            "ticks": ""
           }
          },
          "colorscale": {
           "diverging": [
            [
             0,
             "#8e0152"
            ],
            [
             0.1,
             "#c51b7d"
            ],
            [
             0.2,
             "#de77ae"
            ],
            [
             0.3,
             "#f1b6da"
            ],
            [
             0.4,
             "#fde0ef"
            ],
            [
             0.5,
             "#f7f7f7"
            ],
            [
             0.6,
             "#e6f5d0"
            ],
            [
             0.7,
             "#b8e186"
            ],
            [
             0.8,
             "#7fbc41"
            ],
            [
             0.9,
             "#4d9221"
            ],
            [
             1,
             "#276419"
            ]
           ],
           "sequential": [
            [
             0,
             "#0d0887"
            ],
            [
             0.1111111111111111,
             "#46039f"
            ],
            [
             0.2222222222222222,
             "#7201a8"
            ],
            [
             0.3333333333333333,
             "#9c179e"
            ],
            [
             0.4444444444444444,
             "#bd3786"
            ],
            [
             0.5555555555555556,
             "#d8576b"
            ],
            [
             0.6666666666666666,
             "#ed7953"
            ],
            [
             0.7777777777777778,
             "#fb9f3a"
            ],
            [
             0.8888888888888888,
             "#fdca26"
            ],
            [
             1,
             "#f0f921"
            ]
           ],
           "sequentialminus": [
            [
             0,
             "#0d0887"
            ],
            [
             0.1111111111111111,
             "#46039f"
            ],
            [
             0.2222222222222222,
             "#7201a8"
            ],
            [
             0.3333333333333333,
             "#9c179e"
            ],
            [
             0.4444444444444444,
             "#bd3786"
            ],
            [
             0.5555555555555556,
             "#d8576b"
            ],
            [
             0.6666666666666666,
             "#ed7953"
            ],
            [
             0.7777777777777778,
             "#fb9f3a"
            ],
            [
             0.8888888888888888,
             "#fdca26"
            ],
            [
             1,
             "#f0f921"
            ]
           ]
          },
          "colorway": [
           "#636efa",
           "#EF553B",
           "#00cc96",
           "#ab63fa",
           "#FFA15A",
           "#19d3f3",
           "#FF6692",
           "#B6E880",
           "#FF97FF",
           "#FECB52"
          ],
          "font": {
           "color": "#2a3f5f"
          },
          "geo": {
           "bgcolor": "white",
           "lakecolor": "white",
           "landcolor": "#E5ECF6",
           "showlakes": true,
           "showland": true,
           "subunitcolor": "white"
          },
          "hoverlabel": {
           "align": "left"
          },
          "hovermode": "closest",
          "mapbox": {
           "style": "light"
          },
          "paper_bgcolor": "white",
          "plot_bgcolor": "#E5ECF6",
          "polar": {
           "angularaxis": {
            "gridcolor": "white",
            "linecolor": "white",
            "ticks": ""
           },
           "bgcolor": "#E5ECF6",
           "radialaxis": {
            "gridcolor": "white",
            "linecolor": "white",
            "ticks": ""
           }
          },
          "scene": {
           "xaxis": {
            "backgroundcolor": "#E5ECF6",
            "gridcolor": "white",
            "gridwidth": 2,
            "linecolor": "white",
            "showbackground": true,
            "ticks": "",
            "zerolinecolor": "white"
           },
           "yaxis": {
            "backgroundcolor": "#E5ECF6",
            "gridcolor": "white",
            "gridwidth": 2,
            "linecolor": "white",
            "showbackground": true,
            "ticks": "",
            "zerolinecolor": "white"
           },
           "zaxis": {
            "backgroundcolor": "#E5ECF6",
            "gridcolor": "white",
            "gridwidth": 2,
            "linecolor": "white",
            "showbackground": true,
            "ticks": "",
            "zerolinecolor": "white"
           }
          },
          "shapedefaults": {
           "line": {
            "color": "#2a3f5f"
           }
          },
          "ternary": {
           "aaxis": {
            "gridcolor": "white",
            "linecolor": "white",
            "ticks": ""
           },
           "baxis": {
            "gridcolor": "white",
            "linecolor": "white",
            "ticks": ""
           },
           "bgcolor": "#E5ECF6",
           "caxis": {
            "gridcolor": "white",
            "linecolor": "white",
            "ticks": ""
           }
          },
          "title": {
           "x": 0.05
          },
          "xaxis": {
           "automargin": true,
           "gridcolor": "white",
           "linecolor": "white",
           "ticks": "",
           "title": {
            "standoff": 15
           },
           "zerolinecolor": "white",
           "zerolinewidth": 2
          },
          "yaxis": {
           "automargin": true,
           "gridcolor": "white",
           "linecolor": "white",
           "ticks": "",
           "title": {
            "standoff": 15
           },
           "zerolinecolor": "white",
           "zerolinewidth": 2
          }
         }
        },
        "title": {
         "text": "Stock Prices of HDFC"
        },
        "xaxis": {
         "title": {
          "font": {
           "color": "#7f7f7f",
           "family": "Courier New, monospace",
           "size": 18
          },
          "text": "Date"
         }
        },
        "yaxis": {
         "title": {
          "font": {
           "color": "#7f7f7f",
           "family": "Courier New, monospace",
           "size": 18
          },
          "text": "Price"
         }
        }
       }
      },
      "text/html": [
       "<div>                            <div id=\"a7ce6602-5a2f-43e0-9e77-9cb097cc7bf7\" class=\"plotly-graph-div\" style=\"height:525px; width:100%;\"></div>            <script type=\"text/javascript\">                require([\"plotly\"], function(Plotly) {                    window.PLOTLYENV=window.PLOTLYENV || {};                                    if (document.getElementById(\"a7ce6602-5a2f-43e0-9e77-9cb097cc7bf7\")) {                    Plotly.newPlot(                        \"a7ce6602-5a2f-43e0-9e77-9cb097cc7bf7\",                        [{\"type\": \"scatter\", \"x\": [\"2019-03-27T00:00:00\", \"2019-03-28T00:00:00\", \"2019-03-29T00:00:00\", \"2019-04-01T00:00:00\", \"2019-04-02T00:00:00\", \"2019-04-03T00:00:00\", \"2019-04-04T00:00:00\", \"2019-04-05T00:00:00\", \"2019-04-08T00:00:00\", \"2019-04-09T00:00:00\", \"2019-04-10T00:00:00\", \"2019-04-11T00:00:00\", \"2019-04-12T00:00:00\", \"2019-04-15T00:00:00\", \"2019-04-16T00:00:00\", \"2019-04-18T00:00:00\", \"2019-04-22T00:00:00\", \"2019-04-23T00:00:00\", \"2019-04-24T00:00:00\", \"2019-04-25T00:00:00\", \"2019-04-26T00:00:00\", \"2019-04-30T00:00:00\", \"2019-05-02T00:00:00\", \"2019-05-03T00:00:00\", \"2019-05-06T00:00:00\", \"2019-05-07T00:00:00\", \"2019-05-08T00:00:00\", \"2019-05-09T00:00:00\", \"2019-05-10T00:00:00\", \"2019-05-13T00:00:00\", \"2019-05-14T00:00:00\", \"2019-05-15T00:00:00\", \"2019-05-16T00:00:00\", \"2019-05-17T00:00:00\", \"2019-05-20T00:00:00\", \"2019-05-21T00:00:00\", \"2019-05-22T00:00:00\", \"2019-05-23T00:00:00\", \"2019-05-24T00:00:00\", \"2019-05-27T00:00:00\", \"2019-05-28T00:00:00\", \"2019-05-29T00:00:00\", \"2019-05-30T00:00:00\", \"2019-05-31T00:00:00\", \"2019-06-03T00:00:00\", \"2019-06-04T00:00:00\", \"2019-06-06T00:00:00\", \"2019-06-07T00:00:00\", \"2019-06-10T00:00:00\", \"2019-06-11T00:00:00\", \"2019-06-12T00:00:00\", \"2019-06-13T00:00:00\", \"2019-06-14T00:00:00\", \"2019-06-17T00:00:00\", \"2019-06-18T00:00:00\", \"2019-06-19T00:00:00\", \"2019-06-20T00:00:00\", \"2019-06-21T00:00:00\", \"2019-06-24T00:00:00\", \"2019-06-25T00:00:00\", \"2019-06-26T00:00:00\", \"2019-06-27T00:00:00\", \"2019-06-28T00:00:00\", \"2019-07-01T00:00:00\", \"2019-07-02T00:00:00\", \"2019-07-03T00:00:00\", \"2019-07-04T00:00:00\", \"2019-07-05T00:00:00\", \"2019-07-08T00:00:00\", \"2019-07-09T00:00:00\", \"2019-07-10T00:00:00\", \"2019-07-11T00:00:00\", \"2019-07-12T00:00:00\", \"2019-07-15T00:00:00\", \"2019-07-16T00:00:00\", \"2019-07-17T00:00:00\", \"2019-07-18T00:00:00\", \"2019-07-19T00:00:00\", \"2019-07-22T00:00:00\", \"2019-07-23T00:00:00\", \"2019-07-24T00:00:00\", \"2019-07-25T00:00:00\", \"2019-07-26T00:00:00\", \"2019-07-29T00:00:00\", \"2019-07-30T00:00:00\", \"2019-07-31T00:00:00\", \"2019-08-01T00:00:00\", \"2019-08-02T00:00:00\", \"2019-08-05T00:00:00\", \"2019-08-06T00:00:00\", \"2019-08-07T00:00:00\", \"2019-08-08T00:00:00\", \"2019-08-09T00:00:00\", \"2019-08-13T00:00:00\", \"2019-08-14T00:00:00\", \"2019-08-16T00:00:00\", \"2019-08-19T00:00:00\", \"2019-08-20T00:00:00\", \"2019-08-21T00:00:00\", \"2019-08-22T00:00:00\", \"2019-08-23T00:00:00\", \"2019-08-26T00:00:00\", \"2019-08-27T00:00:00\", \"2019-08-28T00:00:00\", \"2019-08-29T00:00:00\", \"2019-08-30T00:00:00\", \"2019-09-03T00:00:00\", \"2019-09-04T00:00:00\", \"2019-09-05T00:00:00\", \"2019-09-06T00:00:00\", \"2019-09-09T00:00:00\", \"2019-09-11T00:00:00\", \"2019-09-12T00:00:00\", \"2019-09-13T00:00:00\", \"2019-09-16T00:00:00\", \"2019-09-17T00:00:00\", \"2019-09-18T00:00:00\", \"2019-09-19T00:00:00\", \"2019-09-20T00:00:00\", \"2019-09-23T00:00:00\", \"2019-09-23T00:00:00\", \"2019-09-24T00:00:00\", \"2019-09-25T00:00:00\", \"2019-09-26T00:00:00\", \"2019-09-27T00:00:00\", \"2019-09-30T00:00:00\", \"2019-10-01T00:00:00\", \"2019-10-03T00:00:00\", \"2019-10-04T00:00:00\", \"2019-10-07T00:00:00\", \"2019-10-09T00:00:00\", \"2019-10-10T00:00:00\", \"2019-10-11T00:00:00\", \"2019-10-14T00:00:00\", \"2019-10-15T00:00:00\", \"2019-10-16T00:00:00\", \"2019-10-17T00:00:00\", \"2019-10-18T00:00:00\", \"2019-10-22T00:00:00\", \"2019-10-23T00:00:00\", \"2019-10-24T00:00:00\", \"2019-10-25T00:00:00\", \"2019-10-27T00:00:00\", \"2019-10-29T00:00:00\", \"2019-10-30T00:00:00\", \"2019-10-31T00:00:00\", \"2019-11-01T00:00:00\", \"2019-11-04T00:00:00\", \"2019-11-05T00:00:00\", \"2019-11-06T00:00:00\", \"2019-11-07T00:00:00\", \"2019-11-08T00:00:00\", \"2019-11-11T00:00:00\", \"2019-11-13T00:00:00\", \"2019-11-14T00:00:00\", \"2019-11-15T00:00:00\", \"2019-11-18T00:00:00\", \"2019-11-19T00:00:00\", \"2019-11-20T00:00:00\", \"2019-11-21T00:00:00\", \"2019-11-22T00:00:00\", \"2019-11-25T00:00:00\", \"2019-11-26T00:00:00\", \"2019-11-27T00:00:00\", \"2019-11-28T00:00:00\", \"2019-11-29T00:00:00\", \"2019-12-02T00:00:00\", \"2019-12-03T00:00:00\", \"2019-12-04T00:00:00\", \"2019-12-05T00:00:00\", \"2019-12-06T00:00:00\", \"2019-12-09T00:00:00\", \"2019-12-10T00:00:00\", \"2019-12-11T00:00:00\", \"2019-12-12T00:00:00\", \"2019-12-13T00:00:00\", \"2019-12-16T00:00:00\", \"2019-12-17T00:00:00\", \"2019-12-18T00:00:00\", \"2019-12-19T00:00:00\", \"2019-12-20T00:00:00\", \"2019-12-23T00:00:00\", \"2019-12-24T00:00:00\", \"2019-12-26T00:00:00\", \"2019-12-27T00:00:00\", \"2019-12-30T00:00:00\", \"2019-12-31T00:00:00\", \"2020-01-01T00:00:00\", \"2020-01-02T00:00:00\", \"2020-01-03T00:00:00\", \"2020-01-06T00:00:00\", \"2020-01-07T00:00:00\", \"2020-01-08T00:00:00\", \"2020-01-09T00:00:00\", \"2020-01-10T00:00:00\", \"2020-01-13T00:00:00\", \"2020-01-14T00:00:00\", \"2020-01-15T00:00:00\", \"2020-01-16T00:00:00\", \"2020-01-17T00:00:00\", \"2020-01-20T00:00:00\", \"2020-01-21T00:00:00\", \"2020-01-22T00:00:00\", \"2020-01-23T00:00:00\", \"2020-01-24T00:00:00\", \"2020-01-27T00:00:00\", \"2020-01-28T00:00:00\", \"2020-01-29T00:00:00\", \"2020-01-30T00:00:00\", \"2020-01-31T00:00:00\", \"2020-02-01T00:00:00\", \"2020-02-03T00:00:00\", \"2020-02-04T00:00:00\", \"2020-02-05T00:00:00\", \"2020-02-06T00:00:00\", \"2020-02-07T00:00:00\", \"2020-02-10T00:00:00\", \"2020-02-11T00:00:00\", \"2020-02-12T00:00:00\", \"2020-02-13T00:00:00\", \"2020-02-14T00:00:00\", \"2020-02-17T00:00:00\", \"2020-02-18T00:00:00\", \"2020-02-19T00:00:00\", \"2020-02-20T00:00:00\", \"2020-02-24T00:00:00\", \"2020-02-25T00:00:00\", \"2020-02-26T00:00:00\", \"2020-02-27T00:00:00\", \"2020-02-28T00:00:00\", \"2020-03-02T00:00:00\", \"2020-03-03T00:00:00\", \"2020-03-04T00:00:00\", \"2020-03-05T00:00:00\", \"2020-03-06T00:00:00\", \"2020-03-09T00:00:00\", \"2020-03-11T00:00:00\", \"2020-03-12T00:00:00\", \"2020-03-13T00:00:00\", \"2020-03-16T00:00:00\", \"2020-03-17T00:00:00\", \"2020-03-18T00:00:00\", \"2020-03-19T00:00:00\", \"2020-03-20T00:00:00\", \"2020-03-23T00:00:00\", \"2020-03-24T00:00:00\", \"2020-03-25T00:00:00\", \"2020-03-26T00:00:00\", \"2020-03-27T00:00:00\", \"2020-03-30T00:00:00\", \"2020-03-31T00:00:00\", \"2020-04-01T00:00:00\", \"2020-04-03T00:00:00\", \"2020-04-07T00:00:00\", \"2020-04-08T00:00:00\", \"2020-04-09T00:00:00\", \"2020-04-13T00:00:00\", \"2020-04-15T00:00:00\", \"2020-04-16T00:00:00\", \"2020-04-17T00:00:00\", \"2020-04-20T00:00:00\", \"2020-04-21T00:00:00\", \"2020-04-22T00:00:00\", \"2020-04-23T00:00:00\", \"2020-04-24T00:00:00\", \"2020-04-27T00:00:00\", \"2020-04-28T00:00:00\", \"2020-04-29T00:00:00\", \"2020-04-30T00:00:00\", \"2020-05-04T00:00:00\", \"2020-05-05T00:00:00\", \"2020-05-06T00:00:00\", \"2020-05-07T00:00:00\", \"2020-05-08T00:00:00\", \"2020-05-11T00:00:00\", \"2020-05-12T00:00:00\", \"2020-05-13T00:00:00\", \"2020-05-14T00:00:00\", \"2020-05-15T00:00:00\", \"2020-05-18T00:00:00\", \"2020-05-19T00:00:00\", \"2020-05-20T00:00:00\", \"2020-05-21T00:00:00\", \"2020-05-22T00:00:00\", \"2020-05-26T00:00:00\", \"2020-05-27T00:00:00\", \"2020-05-28T00:00:00\", \"2020-05-29T00:00:00\", \"2020-06-01T00:00:00\", \"2020-06-02T00:00:00\", \"2020-06-03T00:00:00\", \"2020-06-04T00:00:00\", \"2020-06-05T00:00:00\", \"2020-06-08T00:00:00\", \"2020-06-09T00:00:00\", \"2020-06-10T00:00:00\", \"2020-06-11T00:00:00\", \"2020-06-12T00:00:00\", \"2020-06-15T00:00:00\", \"2020-06-16T00:00:00\", \"2020-06-17T00:00:00\", \"2020-06-18T00:00:00\", \"2020-06-19T00:00:00\", \"2020-06-22T00:00:00\", \"2020-06-23T00:00:00\", \"2020-06-24T00:00:00\", \"2020-06-25T00:00:00\", \"2020-06-26T00:00:00\", \"2020-06-29T00:00:00\", \"2020-06-30T00:00:00\", \"2020-07-01T00:00:00\", \"2020-07-02T00:00:00\", \"2020-07-03T00:00:00\", \"2020-07-06T00:00:00\", \"2020-07-07T00:00:00\", \"2020-07-08T00:00:00\", \"2020-07-09T00:00:00\", \"2020-07-10T00:00:00\", \"2020-07-13T00:00:00\", \"2020-07-14T00:00:00\", \"2020-07-15T00:00:00\", \"2020-07-16T00:00:00\", \"2020-07-17T00:00:00\", \"2020-07-20T00:00:00\", \"2020-07-21T00:00:00\", \"2020-07-22T00:00:00\", \"2020-07-23T00:00:00\", \"2020-07-24T00:00:00\", \"2020-07-27T00:00:00\", \"2020-07-28T00:00:00\", \"2020-07-29T00:00:00\", \"2020-07-30T00:00:00\", \"2020-07-31T00:00:00\", \"2020-08-03T00:00:00\", \"2020-08-04T00:00:00\", \"2020-08-05T00:00:00\", \"2020-08-06T00:00:00\", \"2020-08-07T00:00:00\", \"2020-08-10T00:00:00\", \"2020-08-11T00:00:00\", \"2020-08-12T00:00:00\", \"2020-08-13T00:00:00\", \"2020-08-13T00:00:00\", \"2020-08-14T00:00:00\", \"2020-08-14T00:00:00\", \"2020-08-17T00:00:00\", \"2020-08-17T00:00:00\", \"2020-08-18T00:00:00\", \"2020-08-18T00:00:00\", \"2020-08-19T00:00:00\", \"2020-08-19T00:00:00\", \"2020-08-20T00:00:00\", \"2020-08-20T00:00:00\", \"2020-08-21T00:00:00\", \"2020-08-21T00:00:00\", \"2020-08-24T00:00:00\", \"2020-08-24T00:00:00\", \"2020-08-25T00:00:00\", \"2020-08-25T00:00:00\", \"2020-08-26T00:00:00\", \"2020-08-26T00:00:00\", \"2020-08-27T00:00:00\", \"2020-08-27T00:00:00\", \"2020-08-28T00:00:00\", \"2020-08-28T00:00:00\", \"2020-08-31T00:00:00\", \"2020-08-31T00:00:00\", \"2020-09-01T00:00:00\", \"2020-09-01T00:00:00\", \"2020-09-02T00:00:00\", \"2020-09-02T00:00:00\", \"2020-09-03T00:00:00\", \"2020-09-03T00:00:00\", \"2020-09-04T00:00:00\", \"2020-09-04T00:00:00\", \"2020-09-07T00:00:00\", \"2020-09-07T00:00:00\", \"2020-09-08T00:00:00\", \"2020-09-08T00:00:00\", \"2020-09-09T00:00:00\", \"2020-09-09T00:00:00\", \"2020-09-10T00:00:00\", \"2020-09-10T00:00:00\", \"2020-09-11T00:00:00\", \"2020-09-11T00:00:00\", \"2020-09-14T00:00:00\", \"2020-09-14T00:00:00\", \"2020-09-15T00:00:00\", \"2020-09-15T00:00:00\", \"2020-09-16T00:00:00\", \"2020-09-16T00:00:00\", \"2020-09-17T00:00:00\", \"2020-09-17T00:00:00\", \"2020-09-18T00:00:00\", \"2020-09-18T00:00:00\", \"2020-09-21T00:00:00\", \"2020-09-21T00:00:00\", \"2020-09-22T00:00:00\", \"2020-09-22T00:00:00\", \"2020-09-23T00:00:00\", \"2020-09-23T00:00:00\", \"2020-09-24T00:00:00\", \"2020-09-24T00:00:00\", \"2020-09-25T00:00:00\", \"2020-09-25T00:00:00\", \"2020-09-28T00:00:00\", \"2020-09-28T00:00:00\", \"2020-09-29T00:00:00\", \"2020-09-29T00:00:00\", \"2020-09-30T00:00:00\", \"2020-09-30T00:00:00\", \"2020-10-01T00:00:00\", \"2020-10-01T00:00:00\", \"2020-10-05T00:00:00\", \"2020-10-05T00:00:00\", \"2020-10-06T00:00:00\", \"2020-10-06T00:00:00\", \"2020-10-07T00:00:00\", \"2020-10-07T00:00:00\", \"2020-10-08T00:00:00\", \"2020-10-08T00:00:00\", \"2020-10-09T00:00:00\", \"2020-10-09T00:00:00\", \"2020-10-12T00:00:00\", \"2020-10-12T00:00:00\", \"2020-10-13T00:00:00\", \"2020-10-13T00:00:00\", \"2020-10-14T00:00:00\", \"2020-10-14T00:00:00\", \"2020-10-15T00:00:00\", \"2020-10-15T00:00:00\", \"2020-10-16T00:00:00\", \"2020-10-16T00:00:00\", \"2020-10-19T00:00:00\", \"2020-10-19T00:00:00\", \"2020-10-20T00:00:00\", \"2020-10-20T00:00:00\", \"2020-10-21T00:00:00\", \"2020-10-21T00:00:00\", \"2020-10-22T00:00:00\", \"2020-10-22T00:00:00\", \"2020-10-23T00:00:00\", \"2020-10-23T00:00:00\", \"2020-10-26T00:00:00\", \"2020-10-26T00:00:00\", \"2020-10-27T00:00:00\", \"2020-10-27T00:00:00\", \"2020-10-28T00:00:00\", \"2020-10-28T00:00:00\", \"2020-10-29T00:00:00\", \"2020-10-29T00:00:00\", \"2020-10-30T00:00:00\", \"2020-10-30T00:00:00\", \"2020-11-02T00:00:00\", \"2020-11-02T00:00:00\", \"2020-11-03T00:00:00\", \"2020-11-03T00:00:00\", \"2020-11-04T00:00:00\", \"2020-11-04T00:00:00\", \"2020-11-05T00:00:00\", \"2020-11-05T00:00:00\", \"2020-11-06T00:00:00\", \"2020-11-06T00:00:00\", \"2020-11-09T00:00:00\", \"2020-11-09T00:00:00\", \"2020-11-10T00:00:00\", \"2020-11-10T00:00:00\", \"2020-11-11T00:00:00\", \"2020-11-11T00:00:00\", \"2020-11-12T00:00:00\", \"2020-11-12T00:00:00\", \"2020-11-13T00:00:00\", \"2020-11-13T00:00:00\", \"2020-11-14T00:00:00\", \"2020-11-14T00:00:00\", \"2020-11-17T00:00:00\", \"2020-11-17T00:00:00\", \"2020-11-18T00:00:00\", \"2020-11-18T00:00:00\", \"2020-11-19T00:00:00\", \"2020-11-19T00:00:00\", \"2020-11-20T00:00:00\", \"2020-11-20T00:00:00\", \"2020-11-23T00:00:00\", \"2020-11-23T00:00:00\", \"2020-11-24T00:00:00\", \"2020-11-24T00:00:00\", \"2020-11-25T00:00:00\", \"2020-11-25T00:00:00\", \"2020-11-26T00:00:00\", \"2020-11-26T00:00:00\", \"2020-11-27T00:00:00\", \"2020-11-27T00:00:00\", \"2020-12-01T00:00:00\", \"2020-12-01T00:00:00\", \"2020-12-02T00:00:00\", \"2020-12-02T00:00:00\", \"2020-12-03T00:00:00\", \"2020-12-03T00:00:00\", \"2020-12-04T00:00:00\", \"2020-12-04T00:00:00\", \"2020-12-07T00:00:00\", \"2020-12-07T00:00:00\", \"2020-12-08T00:00:00\", \"2020-12-08T00:00:00\", \"2020-12-09T00:00:00\", \"2020-12-09T00:00:00\", \"2020-12-10T00:00:00\", \"2020-12-10T00:00:00\", \"2020-12-11T00:00:00\", \"2020-12-11T00:00:00\", \"2020-12-14T00:00:00\", \"2020-12-14T00:00:00\", \"2020-12-15T00:00:00\", \"2020-12-15T00:00:00\", \"2020-12-16T00:00:00\", \"2020-12-16T00:00:00\", \"2020-12-17T00:00:00\", \"2020-12-17T00:00:00\", \"2020-12-18T00:00:00\", \"2020-12-18T00:00:00\", \"2020-12-21T00:00:00\", \"2020-12-21T00:00:00\", \"2020-12-22T00:00:00\", \"2020-12-22T00:00:00\", \"2020-12-23T00:00:00\", \"2020-12-23T00:00:00\", \"2020-12-24T00:00:00\", \"2020-12-24T00:00:00\", \"2020-12-28T00:00:00\", \"2020-12-28T00:00:00\", \"2020-12-29T00:00:00\", \"2020-12-29T00:00:00\", \"2020-12-30T00:00:00\", \"2020-12-30T00:00:00\", \"2020-12-31T00:00:00\", \"2020-12-31T00:00:00\", \"2021-01-01T00:00:00\", \"2021-01-01T00:00:00\", \"2021-01-04T00:00:00\", \"2021-01-04T00:00:00\", \"2021-01-05T00:00:00\", \"2021-01-05T00:00:00\", \"2021-01-06T00:00:00\", \"2021-01-06T00:00:00\", \"2021-01-07T00:00:00\", \"2021-01-07T00:00:00\", \"2021-01-08T00:00:00\", \"2021-01-08T00:00:00\", \"2021-01-11T00:00:00\", \"2021-01-11T00:00:00\", \"2021-01-12T00:00:00\", \"2021-01-12T00:00:00\", \"2021-01-13T00:00:00\", \"2021-01-13T00:00:00\", \"2021-01-14T00:00:00\", \"2021-01-14T00:00:00\", \"2021-01-15T00:00:00\", \"2021-01-15T00:00:00\", \"2021-01-18T00:00:00\", \"2021-01-18T00:00:00\", \"2021-01-19T00:00:00\", \"2021-01-19T00:00:00\", \"2021-01-20T00:00:00\", \"2021-01-20T00:00:00\", \"2021-01-21T00:00:00\", \"2021-01-21T00:00:00\", \"2021-01-22T00:00:00\", \"2021-01-22T00:00:00\", \"2021-01-25T00:00:00\", \"2021-01-25T00:00:00\", \"2021-01-27T00:00:00\", \"2021-01-27T00:00:00\", \"2021-01-28T00:00:00\", \"2021-01-28T00:00:00\", \"2021-01-29T00:00:00\", \"2021-01-29T00:00:00\", \"2021-02-01T00:00:00\", \"2021-02-01T00:00:00\", \"2021-02-02T00:00:00\", \"2021-02-02T00:00:00\", \"2021-02-03T00:00:00\", \"2021-02-03T00:00:00\", \"2021-02-04T00:00:00\", \"2021-02-04T00:00:00\", \"2021-02-05T00:00:00\", \"2021-02-05T00:00:00\", \"2021-02-08T00:00:00\", \"2021-02-08T00:00:00\", \"2021-02-09T00:00:00\", \"2021-02-09T00:00:00\", \"2021-02-10T00:00:00\", \"2021-02-10T00:00:00\", \"2021-02-11T00:00:00\", \"2021-02-11T00:00:00\", \"2021-02-12T00:00:00\", \"2021-02-12T00:00:00\", \"2021-02-15T00:00:00\", \"2021-02-15T00:00:00\", \"2021-02-16T00:00:00\", \"2021-02-16T00:00:00\", \"2021-02-17T00:00:00\", \"2021-02-17T00:00:00\", \"2021-02-18T00:00:00\", \"2021-02-18T00:00:00\", \"2021-02-19T00:00:00\", \"2021-02-19T00:00:00\", \"2021-02-22T00:00:00\", \"2021-02-22T00:00:00\", \"2021-02-23T00:00:00\", \"2021-02-23T00:00:00\", \"2021-02-24T00:00:00\", \"2021-02-24T00:00:00\", \"2021-02-25T00:00:00\", \"2021-02-25T00:00:00\", \"2021-02-26T00:00:00\", \"2021-02-26T00:00:00\", \"2021-03-01T00:00:00\", \"2021-03-01T00:00:00\", \"2021-03-02T00:00:00\", \"2021-03-02T00:00:00\", \"2021-03-03T00:00:00\", \"2021-03-03T00:00:00\", \"2021-03-04T00:00:00\", \"2021-03-04T00:00:00\", \"2021-03-05T00:00:00\", \"2021-03-05T00:00:00\", \"2021-03-08T00:00:00\", \"2021-03-08T00:00:00\", \"2021-03-09T00:00:00\", \"2021-03-09T00:00:00\", \"2021-03-10T00:00:00\", \"2021-03-10T00:00:00\", \"2021-03-12T00:00:00\", \"2021-03-12T00:00:00\", \"2021-03-15T00:00:00\", \"2021-03-15T00:00:00\", \"2021-03-16T00:00:00\", \"2021-03-16T00:00:00\", \"2021-03-17T00:00:00\", \"2021-03-17T00:00:00\", \"2021-03-18T00:00:00\", \"2021-03-18T00:00:00\", \"2021-03-19T00:00:00\", \"2021-03-19T00:00:00\", \"2021-03-22T00:00:00\", \"2021-03-22T00:00:00\", \"2021-03-23T00:00:00\", \"2021-03-23T00:00:00\", \"2021-03-24T00:00:00\", \"2021-03-24T00:00:00\", \"2021-03-25T00:00:00\", \"2021-03-25T00:00:00\"], \"y\": [1914.1, 1942.1, 1964.0, 1951.0, 1998.95, 2008.75, 2041.9, 2064.5, 2052.0, 2067.0, 2029.95, 2018.1, 2023.0, 2012.0, 2027.2, 2005.0, 1958.5, 1930.0, 1984.7, 1951.45, 1976.95, 1995.55, 2018.0, 2002.8, 1965.9, 1964.5, 1930.1, 1914.15, 1926.8, 1957.0, 1964.2, 1939.5, 1945.1, 1996.0, 2120.05, 2118.0, 2141.55, 2128.95, 2123.0, 2159.3, 2158.0, 2144.0, 2179.1, 2184.0, 2230.35, 2229.15, 2184.0, 2207.0, 2192.0, 2184.55, 2185.0, 2196.0, 2182.95, 2177.0, 2156.0, 2180.9, 2203.0, 2142.85, 2150.0, 2171.0, 2164.25, 2196.3, 2194.4, 2250.1, 2282.0, 2275.15, 2278.1, 2270.0, 2263.1, 2240.0, 2230.95, 2260.65, 2250.8, 2270.0, 2277.55, 2285.4, 2338.0, 2302.0, 2182.3, 2140.0, 2179.9, 2194.0, 2165.0, 2160.0, 2125.5, 2123.15, 2085.1, 2135.75, 2151.7, 2185.1, 2171.0, 2176.3, 2214.0, 2101.85, 2113.9, 2099.0, 2110.9, 2090.8, 2069.0, 2012.3, 2057.1, 2150.0, 2182.6, 2189.9, 2129.7, 2165.0, 2088.45, 2099.75, 2041.0, 2044.0, 2066.7, 2066.0, 2082.8, 2089.85, 2044.1, 1995.6, 1988.85, 1972.5, 2050.65, 2045.0, 2159.9, 2131.0, 2067.85, 2065.9, 2034.0, 1977.05, 1991.85, 1976.45, 1975.05, 1969.0, 2005.0, 1987.2, 2007.0, 2009.0, 2013.0, 2051.8, 2085.45, 2096.0, 2116.0, 2144.2, 2145.15, 2101.0, 2103.9, 2114.75, 2103.0, 2137.0, 2130.8, 2179.8, 2182.55, 2221.0, 2250.0, 2230.0, 2236.15, 2207.45, 2222.8, 2226.0, 2239.0, 2215.7, 2196.0, 2210.4, 2240.0, 2294.0, 2298.8, 2336.0, 2307.9, 2296.0, 2306.65, 2321.9, 2317.0, 2321.25, 2262.0, 2308.0, 2288.55, 2320.15, 2317.25, 2351.2, 2375.95, 2426.25, 2443.5, 2412.1, 2403.5, 2432.0, 2413.0, 2416.6, 2443.0, 2440.0, 2413.05, 2435.75, 2469.9, 2452.05, 2389.95, 2420.0, 2400.0, 2454.0, 2460.0, 2461.5, 2488.3, 2491.7, 2481.45, 2452.7, 2454.3, 2465.0, 2418.0, 2429.0, 2449.15, 2389.95, 2433.4, 2406.3, 2411.0, 2416.4, 2262.0, 2265.0, 2344.4, 2390.5, 2433.0, 2405.0, 2412.1, 2436.0, 2433.0, 2404.0, 2400.25, 2349.9, 2324.05, 2379.0, 2368.5, 2303.85, 2307.0, 2276.5, 2265.95, 2186.0, 2183.7, 2194.95, 2209.1, 2189.0, 2109.5, 2025.5, 2040.35, 1874.5, 2072.65, 1858.0, 1755.85, 1633.25, 1620.0, 1776.9, 1520.7, 1504.35, 1655.6, 1755.0, 1755.45, 1564.0, 1625.0, 1588.0, 1499.75, 1570.0, 1560.0, 1702.0, 1662.0, 1597.0, 1630.0, 1680.0, 1734.0, 1665.0, 1670.0, 1656.0, 1588.0, 1600.6, 1724.0, 1827.95, 1916.15, 1724.85, 1697.0, 1735.0, 1707.0, 1689.75, 1660.0, 1671.9, 1716.0, 1636.2, 1634.0, 1518.55, 1545.0, 1634.5, 1595.0, 1515.85, 1506.4, 1570.55, 1633.0, 1667.0, 1732.0, 1817.0, 1833.0, 1761.65, 1775.0, 1764.0, 1771.0, 1810.55, 1790.0, 1790.0, 1752.0, 1820.0, 1793.4, 1847.5, 1840.3, 1820.5, 1843.15, 1797.65, 1775.95, 1772.0, 1742.75, 1761.0, 1836.8, 1892.85, 1883.0, 1871.55, 1883.85, 1872.0, 1944.5, 1888.5, 1853.65, 1793.1, 1797.0, 1790.0, 1812.05, 1804.05, 1887.0, 1897.7, 1872.25, 1841.0, 1853.0, 1892.0, 1879.65, 1804.95, 1786.5, 1744.0, 1783.85, 1780.0, 1778.45, 1779.9, 1796.6, 1829.0, 1821.0, 1810.0, 300.0, 1793.75, 309.95, 1801.95, 314.95, 1819.05, 321.2, 1827.55, 324.9, 1786.2, 320.0, 1803.0, 328.5, 1828.1, 335.0, 1831.4, 335.0, 1810.75, 333.8, 1863.5, 339.95, 1881.0, 344.0, 1825.0, 327.0, 1850.95, 336.0, 1829.5, 335.0, 1811.25, 330.2, 1771.0, 328.0, 1790.1, 328.0, 1775.35, 326.25, 1763.5, 324.95, 1770.5, 322.05, 1765.05, 318.0, 1736.05, 314.0, 1763.0, 315.0, 1768.0, 319.0, 1749.0, 318.05, 1732.6, 314.95, 1707.75, 310.0, 1676.4, 300.0, 1667.0, 298.2, 1636.25, 300.0, 1652.75, 300.0, 1685.0, 300.0, 1712.65, 299.0, 1733.0, 298.5, 1787.8, 300.0, 1782.35, 304.0, 1920.0, 320.0, 1952.0, 319.95, 1947.8, 320.25, 1966.0, 332.4, 1963.95, 332.0, 1939.0, 325.0, 1978.1, 330.0, 1947.05, 320.0, 1958.6, 326.0, 2033.25, 332.9, 2017.1, 329.0, 2045.8, 345.15, 2046.0, 345.0, 2062.75, 365.0, 2073.0, 370.0, 2029.75, 364.0, 1969.1, 348.1, 1937.55, 351.45, 1921.0, 350.0, 2022.3, 374.0, 2121.35, 415.15, 2085.0, 440.0, 2102.3, 435.0, 2136.35, 445.15, 2156.0, 479.0, 2268.95, 526.9, 2318.0, 561.0, 2326.05, 553.0, 2306.7, 528.0, 2312.6, 539.0, 2344.85, 555.0, 2360.0, 570.0, 2327.5, 548.5, 2329.0, 559.45, 2253.05, 504.0, 2220.0, 500.15, 2186.8, 525.0, 2242.7, 525.0, 2238.0, 535.0, 2296.2, 572.0, 2274.0, 549.0, 2252.75, 542.55, 2247.2, 543.0, 2303.0, 575.0, 2309.0, 569.0, 2306.0, 549.6, 2289.8, 550.0, 2297.0, 542.7, 2300.55, 548.0, 2350.35, 582.75, 2415.0, 624.05, 2490.1, 665.0, 2472.8, 666.0, 2404.45, 620.0, 2398.5, 648.0, 2405.9, 645.0, 2451.85, 662.5, 2485.0, 677.0, 2511.0, 717.0, 2521.7, 714.95, 2549.95, 755.0, 2565.0, 760.0, 2579.0, 756.15, 2654.95, 798.5, 2631.0, 783.0, 2653.45, 829.5, 2657.65, 820.0, 2747.1, 850.0, 2750.0, 850.0, 2672.0, 792.0, 2681.1, 790.0, 2635.0, 765.0, 2569.4, 717.9, 2651.05, 768.9, 2673.0, 760.0, 2671.0, 770.0, 2589.95, 725.45, 2560.0, 698.0, 2470.0, 670.95, 2431.5, 658.5, 2378.0, 662.0, 2580.0, 731.25, 2658.7, 763.85, 2702.95, 802.0, 2707.0, 809.0, 2721.0, 864.0, 2735.1, 870.0, 2745.0, 880.0, 2777.2, 880.0, 2753.4, 880.0, 2789.0, 885.15, 2861.55, 933.0, 2853.85, 930.0, 2797.55, 885.0, 2750.0, 845.0, 2740.0, 840.3, 2655.0, 826.0, 2629.0, 825.0, 2709.0, 875.0, 2687.0, 865.0, 2539.9, 806.55, 2610.0, 840.0, 2575.0, 833.6, 2654.85, 864.0, 2584.9, 826.0, 2546.9, 810.0, 2512.0, 800.0, 2578.0, 850.0, 2600.0, 840.0, 2568.0, 826.5, 2532.9, 830.0, 2517.5, 820.0, 2510.0, 800.0, 2507.8, 786.0, 2525.4, 780.0, 2536.2, 774.95, 2512.3, 774.0, 2465.0, 756.4, 2478.0, 789.0]}],                        {\"template\": {\"data\": {\"bar\": [{\"error_x\": {\"color\": \"#2a3f5f\"}, \"error_y\": {\"color\": \"#2a3f5f\"}, \"marker\": {\"line\": {\"color\": \"#E5ECF6\", \"width\": 0.5}}, \"type\": \"bar\"}], \"barpolar\": [{\"marker\": {\"line\": {\"color\": \"#E5ECF6\", \"width\": 0.5}}, \"type\": \"barpolar\"}], \"carpet\": [{\"aaxis\": {\"endlinecolor\": \"#2a3f5f\", \"gridcolor\": \"white\", \"linecolor\": \"white\", \"minorgridcolor\": \"white\", \"startlinecolor\": \"#2a3f5f\"}, \"baxis\": {\"endlinecolor\": \"#2a3f5f\", \"gridcolor\": \"white\", \"linecolor\": \"white\", \"minorgridcolor\": \"white\", \"startlinecolor\": \"#2a3f5f\"}, \"type\": \"carpet\"}], \"choropleth\": [{\"colorbar\": {\"outlinewidth\": 0, \"ticks\": \"\"}, \"type\": \"choropleth\"}], \"contour\": [{\"colorbar\": {\"outlinewidth\": 0, \"ticks\": \"\"}, \"colorscale\": [[0.0, \"#0d0887\"], [0.1111111111111111, \"#46039f\"], [0.2222222222222222, \"#7201a8\"], [0.3333333333333333, \"#9c179e\"], [0.4444444444444444, \"#bd3786\"], [0.5555555555555556, \"#d8576b\"], [0.6666666666666666, \"#ed7953\"], [0.7777777777777778, \"#fb9f3a\"], [0.8888888888888888, \"#fdca26\"], [1.0, \"#f0f921\"]], \"type\": \"contour\"}], \"contourcarpet\": [{\"colorbar\": {\"outlinewidth\": 0, \"ticks\": \"\"}, \"type\": \"contourcarpet\"}], \"heatmap\": [{\"colorbar\": {\"outlinewidth\": 0, \"ticks\": \"\"}, \"colorscale\": [[0.0, \"#0d0887\"], [0.1111111111111111, \"#46039f\"], [0.2222222222222222, \"#7201a8\"], [0.3333333333333333, \"#9c179e\"], [0.4444444444444444, \"#bd3786\"], [0.5555555555555556, \"#d8576b\"], [0.6666666666666666, \"#ed7953\"], [0.7777777777777778, \"#fb9f3a\"], [0.8888888888888888, \"#fdca26\"], [1.0, \"#f0f921\"]], \"type\": \"heatmap\"}], \"heatmapgl\": [{\"colorbar\": {\"outlinewidth\": 0, \"ticks\": \"\"}, \"colorscale\": [[0.0, \"#0d0887\"], [0.1111111111111111, \"#46039f\"], [0.2222222222222222, \"#7201a8\"], [0.3333333333333333, \"#9c179e\"], [0.4444444444444444, \"#bd3786\"], [0.5555555555555556, \"#d8576b\"], [0.6666666666666666, \"#ed7953\"], [0.7777777777777778, \"#fb9f3a\"], [0.8888888888888888, \"#fdca26\"], [1.0, \"#f0f921\"]], \"type\": \"heatmapgl\"}], \"histogram\": [{\"marker\": {\"colorbar\": {\"outlinewidth\": 0, \"ticks\": \"\"}}, \"type\": \"histogram\"}], \"histogram2d\": [{\"colorbar\": {\"outlinewidth\": 0, \"ticks\": \"\"}, \"colorscale\": [[0.0, \"#0d0887\"], [0.1111111111111111, \"#46039f\"], [0.2222222222222222, \"#7201a8\"], [0.3333333333333333, \"#9c179e\"], [0.4444444444444444, \"#bd3786\"], [0.5555555555555556, \"#d8576b\"], [0.6666666666666666, \"#ed7953\"], [0.7777777777777778, \"#fb9f3a\"], [0.8888888888888888, \"#fdca26\"], [1.0, \"#f0f921\"]], \"type\": \"histogram2d\"}], \"histogram2dcontour\": [{\"colorbar\": {\"outlinewidth\": 0, \"ticks\": \"\"}, \"colorscale\": [[0.0, \"#0d0887\"], [0.1111111111111111, \"#46039f\"], [0.2222222222222222, \"#7201a8\"], [0.3333333333333333, \"#9c179e\"], [0.4444444444444444, \"#bd3786\"], [0.5555555555555556, \"#d8576b\"], [0.6666666666666666, \"#ed7953\"], [0.7777777777777778, \"#fb9f3a\"], [0.8888888888888888, \"#fdca26\"], [1.0, \"#f0f921\"]], \"type\": \"histogram2dcontour\"}], \"mesh3d\": [{\"colorbar\": {\"outlinewidth\": 0, \"ticks\": \"\"}, \"type\": \"mesh3d\"}], \"parcoords\": [{\"line\": {\"colorbar\": {\"outlinewidth\": 0, \"ticks\": \"\"}}, \"type\": \"parcoords\"}], \"pie\": [{\"automargin\": true, \"type\": \"pie\"}], \"scatter\": [{\"marker\": {\"colorbar\": {\"outlinewidth\": 0, \"ticks\": \"\"}}, \"type\": \"scatter\"}], \"scatter3d\": [{\"line\": {\"colorbar\": {\"outlinewidth\": 0, \"ticks\": \"\"}}, \"marker\": {\"colorbar\": {\"outlinewidth\": 0, \"ticks\": \"\"}}, \"type\": \"scatter3d\"}], \"scattercarpet\": [{\"marker\": {\"colorbar\": {\"outlinewidth\": 0, \"ticks\": \"\"}}, \"type\": \"scattercarpet\"}], \"scattergeo\": [{\"marker\": {\"colorbar\": {\"outlinewidth\": 0, \"ticks\": \"\"}}, \"type\": \"scattergeo\"}], \"scattergl\": [{\"marker\": {\"colorbar\": {\"outlinewidth\": 0, \"ticks\": \"\"}}, \"type\": \"scattergl\"}], \"scattermapbox\": [{\"marker\": {\"colorbar\": {\"outlinewidth\": 0, \"ticks\": \"\"}}, \"type\": \"scattermapbox\"}], \"scatterpolar\": [{\"marker\": {\"colorbar\": {\"outlinewidth\": 0, \"ticks\": \"\"}}, \"type\": \"scatterpolar\"}], \"scatterpolargl\": [{\"marker\": {\"colorbar\": {\"outlinewidth\": 0, \"ticks\": \"\"}}, \"type\": \"scatterpolargl\"}], \"scatterternary\": [{\"marker\": {\"colorbar\": {\"outlinewidth\": 0, \"ticks\": \"\"}}, \"type\": \"scatterternary\"}], \"surface\": [{\"colorbar\": {\"outlinewidth\": 0, \"ticks\": \"\"}, \"colorscale\": [[0.0, \"#0d0887\"], [0.1111111111111111, \"#46039f\"], [0.2222222222222222, \"#7201a8\"], [0.3333333333333333, \"#9c179e\"], [0.4444444444444444, \"#bd3786\"], [0.5555555555555556, \"#d8576b\"], [0.6666666666666666, \"#ed7953\"], [0.7777777777777778, \"#fb9f3a\"], [0.8888888888888888, \"#fdca26\"], [1.0, \"#f0f921\"]], \"type\": \"surface\"}], \"table\": [{\"cells\": {\"fill\": {\"color\": \"#EBF0F8\"}, \"line\": {\"color\": \"white\"}}, \"header\": {\"fill\": {\"color\": \"#C8D4E3\"}, \"line\": {\"color\": \"white\"}}, \"type\": \"table\"}]}, \"layout\": {\"annotationdefaults\": {\"arrowcolor\": \"#2a3f5f\", \"arrowhead\": 0, \"arrowwidth\": 1}, \"autotypenumbers\": \"strict\", \"coloraxis\": {\"colorbar\": {\"outlinewidth\": 0, \"ticks\": \"\"}}, \"colorscale\": {\"diverging\": [[0, \"#8e0152\"], [0.1, \"#c51b7d\"], [0.2, \"#de77ae\"], [0.3, \"#f1b6da\"], [0.4, \"#fde0ef\"], [0.5, \"#f7f7f7\"], [0.6, \"#e6f5d0\"], [0.7, \"#b8e186\"], [0.8, \"#7fbc41\"], [0.9, \"#4d9221\"], [1, \"#276419\"]], \"sequential\": [[0.0, \"#0d0887\"], [0.1111111111111111, \"#46039f\"], [0.2222222222222222, \"#7201a8\"], [0.3333333333333333, \"#9c179e\"], [0.4444444444444444, \"#bd3786\"], [0.5555555555555556, \"#d8576b\"], [0.6666666666666666, \"#ed7953\"], [0.7777777777777778, \"#fb9f3a\"], [0.8888888888888888, \"#fdca26\"], [1.0, \"#f0f921\"]], \"sequentialminus\": [[0.0, \"#0d0887\"], [0.1111111111111111, \"#46039f\"], [0.2222222222222222, \"#7201a8\"], [0.3333333333333333, \"#9c179e\"], [0.4444444444444444, \"#bd3786\"], [0.5555555555555556, \"#d8576b\"], [0.6666666666666666, \"#ed7953\"], [0.7777777777777778, \"#fb9f3a\"], [0.8888888888888888, \"#fdca26\"], [1.0, \"#f0f921\"]]}, \"colorway\": [\"#636efa\", \"#EF553B\", \"#00cc96\", \"#ab63fa\", \"#FFA15A\", \"#19d3f3\", \"#FF6692\", \"#B6E880\", \"#FF97FF\", \"#FECB52\"], \"font\": {\"color\": \"#2a3f5f\"}, \"geo\": {\"bgcolor\": \"white\", \"lakecolor\": \"white\", \"landcolor\": \"#E5ECF6\", \"showlakes\": true, \"showland\": true, \"subunitcolor\": \"white\"}, \"hoverlabel\": {\"align\": \"left\"}, \"hovermode\": \"closest\", \"mapbox\": {\"style\": \"light\"}, \"paper_bgcolor\": \"white\", \"plot_bgcolor\": \"#E5ECF6\", \"polar\": {\"angularaxis\": {\"gridcolor\": \"white\", \"linecolor\": \"white\", \"ticks\": \"\"}, \"bgcolor\": \"#E5ECF6\", \"radialaxis\": {\"gridcolor\": \"white\", \"linecolor\": \"white\", \"ticks\": \"\"}}, \"scene\": {\"xaxis\": {\"backgroundcolor\": \"#E5ECF6\", \"gridcolor\": \"white\", \"gridwidth\": 2, \"linecolor\": \"white\", \"showbackground\": true, \"ticks\": \"\", \"zerolinecolor\": \"white\"}, \"yaxis\": {\"backgroundcolor\": \"#E5ECF6\", \"gridcolor\": \"white\", \"gridwidth\": 2, \"linecolor\": \"white\", \"showbackground\": true, \"ticks\": \"\", \"zerolinecolor\": \"white\"}, \"zaxis\": {\"backgroundcolor\": \"#E5ECF6\", \"gridcolor\": \"white\", \"gridwidth\": 2, \"linecolor\": \"white\", \"showbackground\": true, \"ticks\": \"\", \"zerolinecolor\": \"white\"}}, \"shapedefaults\": {\"line\": {\"color\": \"#2a3f5f\"}}, \"ternary\": {\"aaxis\": {\"gridcolor\": \"white\", \"linecolor\": \"white\", \"ticks\": \"\"}, \"baxis\": {\"gridcolor\": \"white\", \"linecolor\": \"white\", \"ticks\": \"\"}, \"bgcolor\": \"#E5ECF6\", \"caxis\": {\"gridcolor\": \"white\", \"linecolor\": \"white\", \"ticks\": \"\"}}, \"title\": {\"x\": 0.05}, \"xaxis\": {\"automargin\": true, \"gridcolor\": \"white\", \"linecolor\": \"white\", \"ticks\": \"\", \"title\": {\"standoff\": 15}, \"zerolinecolor\": \"white\", \"zerolinewidth\": 2}, \"yaxis\": {\"automargin\": true, \"gridcolor\": \"white\", \"linecolor\": \"white\", \"ticks\": \"\", \"title\": {\"standoff\": 15}, \"zerolinecolor\": \"white\", \"zerolinewidth\": 2}}}, \"title\": {\"text\": \"Stock Prices of HDFC\"}, \"xaxis\": {\"title\": {\"font\": {\"color\": \"#7f7f7f\", \"family\": \"Courier New, monospace\", \"size\": 18}, \"text\": \"Date\"}}, \"yaxis\": {\"title\": {\"font\": {\"color\": \"#7f7f7f\", \"family\": \"Courier New, monospace\", \"size\": 18}, \"text\": \"Price\"}}},                        {\"responsive\": true}                    ).then(function(){\n",
       "                            \n",
       "var gd = document.getElementById('a7ce6602-5a2f-43e0-9e77-9cb097cc7bf7');\n",
       "var x = new MutationObserver(function (mutations, observer) {{\n",
       "        var display = window.getComputedStyle(gd).display;\n",
       "        if (!display || display === 'none') {{\n",
       "            console.log([gd, 'removed!']);\n",
       "            Plotly.purge(gd);\n",
       "            observer.disconnect();\n",
       "        }}\n",
       "}});\n",
       "\n",
       "// Listen for the removal of the full notebook cells\n",
       "var notebookContainer = gd.closest('#notebook-container');\n",
       "if (notebookContainer) {{\n",
       "    x.observe(notebookContainer, {childList: true});\n",
       "}}\n",
       "\n",
       "// Listen for the clearing of the current output cell\n",
       "var outputEl = gd.closest('.output');\n",
       "if (outputEl) {{\n",
       "    x.observe(outputEl, {childList: true});\n",
       "}}\n",
       "\n",
       "                        })                };                });            </script>        </div>"
      ]
     },
     "metadata": {},
     "output_type": "display_data"
    }
   ],
   "source": [
    "#plot(plot) #plotting offline\n",
    "iplot(plot)"
   ]
  },
  {
   "cell_type": "code",
   "execution_count": 10,
   "metadata": {},
   "outputs": [],
   "source": [
    "# Building the regression model\n",
    "from sklearn.model_selection import train_test_split\n",
    "\n",
    "#For preprocessing\n",
    "from sklearn.preprocessing import MinMaxScaler\n",
    "from sklearn.preprocessing import StandardScaler\n",
    "\n",
    "#For model evaluation\n",
    "from sklearn.metrics import mean_squared_error as mse\n",
    "from sklearn.metrics import r2_score"
   ]
  },
  {
   "cell_type": "code",
   "execution_count": 11,
   "metadata": {},
   "outputs": [],
   "source": [
    "#Split the data into train and test sets\n",
    "X = np.array(HDFC.index).reshape(-1,1)\n",
    "Y = HDFC['Last Price']\n",
    "X_train, X_test, Y_train, Y_test = train_test_split(X, Y, test_size=0.3, random_state=101)"
   ]
  },
  {
   "cell_type": "code",
   "execution_count": 12,
   "metadata": {},
   "outputs": [],
   "source": [
    "# Feature scaling\n",
    "scaler = StandardScaler().fit(X_train)"
   ]
  },
  {
   "cell_type": "code",
   "execution_count": 13,
   "metadata": {},
   "outputs": [],
   "source": [
    "from sklearn.linear_model import LinearRegression"
   ]
  },
  {
   "cell_type": "code",
   "execution_count": 14,
   "metadata": {},
   "outputs": [
    {
     "data": {
      "text/plain": [
       "LinearRegression()"
      ]
     },
     "execution_count": 14,
     "metadata": {},
     "output_type": "execute_result"
    }
   ],
   "source": [
    "#Creating a linear model\n",
    "lm = LinearRegression()\n",
    "lm.fit(X_train, Y_train)"
   ]
  },
  {
   "cell_type": "code",
   "execution_count": 15,
   "metadata": {},
   "outputs": [],
   "source": [
    "#Plot actual and predicted values for train dataset\n",
    "trace0 = go.Scatter(\n",
    "    x = X_train.T[0],\n",
    "    y = Y_train,\n",
    "    mode = 'markers',\n",
    "    name = 'Actual'\n",
    ")\n",
    "trace1 = go.Scatter(\n",
    "    x = X_train.T[0],\n",
    "    y = lm.predict(X_train).T,\n",
    "    mode = 'lines',\n",
    "    name = 'Predicted'\n",
    ")\n",
    "HDFC_data = [trace0,trace1]\n",
    "layout.xaxis.title.text = 'Day'\n",
    "plot2 = go.Figure(data=HDFC_data, layout=layout)"
   ]
  },
  {
   "cell_type": "code",
   "execution_count": 16,
   "metadata": {},
   "outputs": [
    {
     "data": {
      "application/vnd.plotly.v1+json": {
       "config": {
        "linkText": "Export to plot.ly",
        "plotlyServerURL": "https://plot.ly",
        "showLink": false
       },
       "data": [
        {
         "mode": "markers",
         "name": "Actual",
         "type": "scatter",
         "x": [
          410,
          124,
          545,
          104,
          524,
          233,
          414,
          605,
          625,
          430,
          608,
          228,
          266,
          569,
          191,
          205,
          527,
          573,
          19,
          278,
          399,
          472,
          86,
          458,
          446,
          652,
          265,
          396,
          533,
          156,
          415,
          161,
          288,
          89,
          60,
          630,
          347,
          636,
          363,
          286,
          287,
          30,
          268,
          426,
          345,
          113,
          188,
          617,
          194,
          582,
          299,
          479,
          467,
          65,
          56,
          459,
          216,
          116,
          390,
          274,
          166,
          331,
          181,
          142,
          553,
          318,
          413,
          281,
          290,
          95,
          28,
          308,
          121,
          352,
          360,
          511,
          189,
          485,
          170,
          15,
          529,
          179,
          91,
          403,
          283,
          483,
          585,
          69,
          532,
          195,
          200,
          41,
          70,
          389,
          504,
          43,
          292,
          530,
          199,
          443,
          143,
          602,
          452,
          165,
          313,
          427,
          51,
          132,
          44,
          578,
          120,
          604,
          439,
          243,
          154,
          323,
          561,
          133,
          162,
          500,
          222,
          220,
          271,
          198,
          13,
          610,
          231,
          211,
          160,
          17,
          296,
          153,
          230,
          374,
          638,
          14,
          73,
          7,
          520,
          196,
          342,
          93,
          408,
          516,
          600,
          634,
          562,
          215,
          9,
          353,
          563,
          626,
          272,
          433,
          164,
          297,
          152,
          609,
          302,
          423,
          607,
          521,
          432,
          234,
          169,
          645,
          515,
          45,
          326,
          445,
          112,
          90,
          277,
          126,
          78,
          167,
          564,
          437,
          480,
          134,
          643,
          631,
          387,
          310,
          29,
          593,
          102,
          406,
          238,
          398,
          27,
          592,
          534,
          259,
          158,
          210,
          20,
          647,
          289,
          460,
          330,
          206,
          462,
          376,
          123,
          444,
          449,
          428,
          595,
          119,
          549,
          481,
          620,
          251,
          252,
          528,
          135,
          543,
          339,
          588,
          401,
          68,
          247,
          421,
          501,
          245,
          466,
          350,
          182,
          531,
          627,
          474,
          613,
          311,
          579,
          85,
          492,
          159,
          177,
          108,
          242,
          172,
          567,
          115,
          298,
          35,
          441,
          37,
          34,
          1,
          514,
          598,
          494,
          633,
          101,
          150,
          586,
          306,
          379,
          369,
          565,
          332,
          11,
          476,
          648,
          223,
          25,
          163,
          372,
          571,
          559,
          301,
          422,
          475,
          359,
          63,
          364,
          192,
          221,
          208,
          456,
          568,
          438,
          642,
          97,
          541,
          409,
          536,
          368,
          566,
          377,
          22,
          42,
          348,
          6,
          349,
          576,
          88,
          322,
          50,
          80,
          258,
          473,
          510,
          193,
          145,
          54,
          232,
          66,
          628,
          26,
          469,
          560,
          151,
          185,
          493,
          487,
          646,
          122,
          96,
          190,
          597,
          455,
          144,
          580,
          87,
          412,
          270,
          61,
          484,
          79,
          129,
          67,
          125,
          219,
          639,
          395,
          309,
          285,
          370,
          404,
          280,
          397,
          253,
          52,
          550,
          358,
          82,
          217,
          305,
          641,
          539,
          356,
          94,
          383,
          254,
          235,
          535,
          465,
          21,
          594,
          149,
          470,
          508,
          558,
          46,
          461,
          451,
          226,
          207,
          244,
          357,
          71,
          366,
          229,
          103,
          262,
          197,
          505,
          250,
          526,
          303,
          340,
          3,
          540,
          649,
          478,
          394,
          507,
          92,
          622,
          570,
          611,
          386,
          137,
          214,
          47,
          596,
          378,
          276,
          499,
          10,
          542,
          419,
          498,
          629,
          463,
          203,
          273,
          140,
          362,
          512,
          300,
          327,
          624,
          402,
          616,
          329,
          294,
          440,
          436,
          519,
          284,
          99,
          574,
          264,
          239,
          457,
          503,
          105,
          343,
          619,
          76,
          275,
          249,
          556,
          418,
          59,
          371,
          136,
          506,
          623,
          49,
          40,
          477,
          5,
          110,
          316,
          650,
          644,
          552,
          393,
          75,
          599,
          575,
          337,
          523
         ],
         "y": [
          298.5,
          2034,
          2653.45,
          2129.7,
          648,
          2189,
          304,
          2740,
          2546.9,
          320,
          826,
          2265.95,
          1724,
          2560,
          2420,
          2389.95,
          2451.85,
          2431.5,
          1951.45,
          1634,
          1667,
          528,
          2085.1,
          440,
          364,
          789,
          1600.6,
          310,
          2521.7,
          2239,
          1920,
          2294,
          1732,
          2185.1,
          2164.25,
          850,
          1819.05,
          830,
          1881,
          1633,
          1667,
          1964.2,
          1916.15,
          325,
          1801.95,
          2089.85,
          2469.9,
          2610,
          2460,
          802,
          1820,
          2327.5,
          2318,
          2275.15,
          2203,
          2102.3,
          2412.1,
          1988.85,
          319,
          1660,
          2306.65,
          1804.95,
          2432,
          2103.9,
          2672,
          1853.65,
          1782.35,
          1634.5,
          1833,
          2099,
          1926.8,
          1742.75,
          2131,
          320,
          333.8,
          2300.55,
          2452.05,
          2220,
          2262,
          2005,
          2485,
          2412.1,
          2176.3,
          1652.75,
          1515.85,
          2253.05,
          2721,
          2240,
          717,
          2461.5,
          2454.3,
          2144,
          2230.95,
          1768,
          569,
          2184,
          1775,
          677,
          2452.7,
          2073,
          2114.75,
          885,
          350,
          2296,
          1871.55,
          1978.1,
          2196,
          2007,
          2230.35,
          731.25,
          2159.9,
          845,
          2046,
          1776.9,
          2222.8,
          1804.05,
          2651.05,
          2009,
          2298.8,
          543,
          2324.05,
          2400.25,
          1735,
          2481.45,
          2012,
          825,
          2194.95,
          2265,
          2240,
          1930,
          1790,
          2207.45,
          2183.7,
          328,
          820,
          2027.2,
          2270,
          2064.5,
          666,
          2488.3,
          300,
          2101.85,
          299,
          624.05,
          930,
          826.5,
          768.9,
          2405,
          2067,
          1803,
          2673,
          810,
          1707,
          2033.25,
          2307.9,
          1790,
          2236.15,
          2629,
          1840.3,
          1963.95,
          2655,
          2404.45,
          326,
          2109.5,
          2321.25,
          2536.2,
          2415,
          2229.15,
          1872.25,
          2029.75,
          2082.8,
          2171,
          1636.2,
          1991.85,
          2182.3,
          2321.9,
          760,
          2045.8,
          548.5,
          2013,
          2525.4,
          2600,
          1763,
          1836.8,
          1957,
          2753.4,
          2182.6,
          300,
          2072.65,
          300,
          1914.15,
          880,
          714.95,
          1680,
          2196,
          2262,
          1976.95,
          2512.3,
          1817,
          435,
          1879.65,
          2433.4,
          445.15,
          328,
          2065.9,
          370,
          1937.55,
          330,
          2789,
          2045,
          2747.1,
          2329,
          833.6,
          1588,
          1499.75,
          662.5,
          2051.8,
          2631,
          1829,
          870,
          1636.25,
          2263.1,
          1755,
          1966,
          2303,
          1504.35,
          526.9,
          324.9,
          2413,
          2511,
          2512,
          539,
          2687,
          1892.85,
          2658.7,
          2123.15,
          535,
          2210.4,
          2426.25,
          2041,
          1620,
          2288.55,
          2589.95,
          1995.6,
          1752,
          2118,
          2062.75,
          2128.95,
          2120.05,
          1942.1,
          582.75,
          933,
          572,
          2568,
          2150,
          2250,
          864,
          1775.95,
          1763.5,
          1829.5,
          2671,
          1786.5,
          2018.1,
          555,
          774,
          2379,
          1964.5,
          2336,
          330.2,
          2470,
          2569.4,
          1847.5,
          332.4,
          2344.85,
          1810.75,
          2250.1,
          344,
          2400,
          2349.9,
          2411,
          415.15,
          725.45,
          345.15,
          786,
          2090.8,
          2654.95,
          1733,
          755,
          336,
          770,
          1775.35,
          2018,
          2179.1,
          321.2,
          2041.9,
          1827.55,
          662,
          2151.7,
          1812.05,
          2185,
          2179.9,
          1630,
          2312.6,
          542.7,
          2454,
          2137,
          2156,
          2209.1,
          2278.1,
          800,
          1930.1,
          2326.05,
          717.9,
          2230,
          2440,
          2296.2,
          2186.8,
          774.95,
          2067.85,
          2110.9,
          2389.95,
          2861.55,
          2121.35,
          2103,
          763.85,
          2135.75,
          300,
          1697,
          2196.3,
          504,
          2140,
          1969,
          2270,
          1977.05,
          2404,
          2510,
          1707.75,
          1761,
          1570.55,
          335,
          300,
          1545,
          1676.4,
          1570,
          2182.95,
          850,
          335,
          2165,
          2436,
          1797.65,
          2507.8,
          2579,
          335,
          2113.9,
          1765.05,
          1560,
          2025.5,
          2549.95,
          2268.95,
          1995.55,
          880,
          2221,
          553,
          550,
          765,
          2184,
          2136.35,
          1921,
          2307,
          2406.3,
          1520.7,
          1831.4,
          2260.65,
          327,
          2186,
          2189.9,
          1670,
          2491.7,
          2306,
          1625,
          645,
          1820.5,
          1821,
          1951,
          756.15,
          2465,
          570,
          314.95,
          2289.8,
          2214,
          864,
          698,
          2709,
          314,
          2096,
          2433,
          2207,
          885.15,
          326.25,
          1716,
          2247.2,
          2029.95,
          798.5,
          1947.8,
          542.55,
          2578,
          2156,
          2429,
          1689.75,
          2145.15,
          339.95,
          548,
          1793.4,
          1841,
          826,
          300,
          806.55,
          1892,
          1771,
          345,
          329,
          2472.8,
          1506.4,
          2012.3,
          658.5,
          1588,
          1858,
          2085,
          2309,
          2165,
          1793.75,
          2575,
          2338,
          1671.9,
          1564,
          790,
          319.95,
          2171,
          1811.25,
          2085.45,
          549.6,
          2584.9,
          2184.55,
          2158,
          2360,
          2008.75,
          2066.7,
          1944.5,
          756.4,
          780,
          850,
          1732.6,
          2285.4,
          2853.85,
          2378,
          1779.9,
          2398.5
         ]
        },
        {
         "mode": "lines",
         "name": "Predicted",
         "type": "scatter",
         "x": [
          410,
          124,
          545,
          104,
          524,
          233,
          414,
          605,
          625,
          430,
          608,
          228,
          266,
          569,
          191,
          205,
          527,
          573,
          19,
          278,
          399,
          472,
          86,
          458,
          446,
          652,
          265,
          396,
          533,
          156,
          415,
          161,
          288,
          89,
          60,
          630,
          347,
          636,
          363,
          286,
          287,
          30,
          268,
          426,
          345,
          113,
          188,
          617,
          194,
          582,
          299,
          479,
          467,
          65,
          56,
          459,
          216,
          116,
          390,
          274,
          166,
          331,
          181,
          142,
          553,
          318,
          413,
          281,
          290,
          95,
          28,
          308,
          121,
          352,
          360,
          511,
          189,
          485,
          170,
          15,
          529,
          179,
          91,
          403,
          283,
          483,
          585,
          69,
          532,
          195,
          200,
          41,
          70,
          389,
          504,
          43,
          292,
          530,
          199,
          443,
          143,
          602,
          452,
          165,
          313,
          427,
          51,
          132,
          44,
          578,
          120,
          604,
          439,
          243,
          154,
          323,
          561,
          133,
          162,
          500,
          222,
          220,
          271,
          198,
          13,
          610,
          231,
          211,
          160,
          17,
          296,
          153,
          230,
          374,
          638,
          14,
          73,
          7,
          520,
          196,
          342,
          93,
          408,
          516,
          600,
          634,
          562,
          215,
          9,
          353,
          563,
          626,
          272,
          433,
          164,
          297,
          152,
          609,
          302,
          423,
          607,
          521,
          432,
          234,
          169,
          645,
          515,
          45,
          326,
          445,
          112,
          90,
          277,
          126,
          78,
          167,
          564,
          437,
          480,
          134,
          643,
          631,
          387,
          310,
          29,
          593,
          102,
          406,
          238,
          398,
          27,
          592,
          534,
          259,
          158,
          210,
          20,
          647,
          289,
          460,
          330,
          206,
          462,
          376,
          123,
          444,
          449,
          428,
          595,
          119,
          549,
          481,
          620,
          251,
          252,
          528,
          135,
          543,
          339,
          588,
          401,
          68,
          247,
          421,
          501,
          245,
          466,
          350,
          182,
          531,
          627,
          474,
          613,
          311,
          579,
          85,
          492,
          159,
          177,
          108,
          242,
          172,
          567,
          115,
          298,
          35,
          441,
          37,
          34,
          1,
          514,
          598,
          494,
          633,
          101,
          150,
          586,
          306,
          379,
          369,
          565,
          332,
          11,
          476,
          648,
          223,
          25,
          163,
          372,
          571,
          559,
          301,
          422,
          475,
          359,
          63,
          364,
          192,
          221,
          208,
          456,
          568,
          438,
          642,
          97,
          541,
          409,
          536,
          368,
          566,
          377,
          22,
          42,
          348,
          6,
          349,
          576,
          88,
          322,
          50,
          80,
          258,
          473,
          510,
          193,
          145,
          54,
          232,
          66,
          628,
          26,
          469,
          560,
          151,
          185,
          493,
          487,
          646,
          122,
          96,
          190,
          597,
          455,
          144,
          580,
          87,
          412,
          270,
          61,
          484,
          79,
          129,
          67,
          125,
          219,
          639,
          395,
          309,
          285,
          370,
          404,
          280,
          397,
          253,
          52,
          550,
          358,
          82,
          217,
          305,
          641,
          539,
          356,
          94,
          383,
          254,
          235,
          535,
          465,
          21,
          594,
          149,
          470,
          508,
          558,
          46,
          461,
          451,
          226,
          207,
          244,
          357,
          71,
          366,
          229,
          103,
          262,
          197,
          505,
          250,
          526,
          303,
          340,
          3,
          540,
          649,
          478,
          394,
          507,
          92,
          622,
          570,
          611,
          386,
          137,
          214,
          47,
          596,
          378,
          276,
          499,
          10,
          542,
          419,
          498,
          629,
          463,
          203,
          273,
          140,
          362,
          512,
          300,
          327,
          624,
          402,
          616,
          329,
          294,
          440,
          436,
          519,
          284,
          99,
          574,
          264,
          239,
          457,
          503,
          105,
          343,
          619,
          76,
          275,
          249,
          556,
          418,
          59,
          371,
          136,
          506,
          623,
          49,
          40,
          477,
          5,
          110,
          316,
          650,
          644,
          552,
          393,
          75,
          599,
          575,
          337,
          523
         ],
         "y": [
          1626.5409577293722,
          2016.1455403755915,
          1442.6366966900732,
          2043.3906160851172,
          1471.2440261850752,
          1867.6598777586757,
          1621.0919425874672,
          1360.9014695614956,
          1333.6563938519698,
          1599.2958820198464,
          1356.8147082050668,
          1874.4711466860572,
          1822.7055028379582,
          1409.942605838642,
          1924.87453674868,
          1905.8029837520119,
          1467.1572648286462,
          1404.4935906967369,
          2159.182187850602,
          1806.3584574122428,
          1641.5257493696115,
          1542.0812230298422,
          2067.9111842236907,
          1561.1527760265103,
          1577.499821452226,
          1296.87554164411,
          1824.0677566234344,
          1645.6125107260405,
          1458.9837421157886,
          1972.5534192403502,
          1619.729688801991,
          1965.7421503129688,
          1792.7359195574797,
          2063.8244228672615,
          2103.329782646074,
          1326.8451249245884,
          1712.3629462143786,
          1318.6716022117307,
          1690.566885646758,
          1795.4604271284325,
          1794.0981733429562,
          2144.197396210363,
          1819.9809952670057,
          1604.7448971617516,
          1715.0874537853313,
          2031.1303320158306,
          1928.9612981051089,
          1344.5544241357802,
          1920.7877753922512,
          1392.2333066274505,
          1777.7511279172406,
          1532.5454465315083,
          1548.8924919572237,
          2096.5185137186927,
          2108.7787977879793,
          1559.790522241034,
          1890.8181921117728,
          2027.043570659402,
          1653.7860334388981,
          1811.8074725541478,
          1958.9308813855873,
          1734.1590067819993,
          1938.497074603443,
          1991.6249722370183,
          1431.7386664062628,
          1751.8683059931911,
          1622.4541963729434,
          1802.271696055814,
          1790.0114119865273,
          2055.650900154404,
          2146.9219037813155,
          1765.490843847954,
          2020.2323017320205,
          1705.5516772869971,
          1694.653647003187,
          1488.9533253962668,
          1927.5990443196326,
          1524.3719238186504,
          1953.4818662436821,
          2164.631202992507,
          1464.4327572576938,
          1941.2215821743955,
          2061.099915296309,
          1636.0767342277063,
          1799.5471884848612,
          1527.0964313896031,
          1388.1465452710213,
          2091.0694985767877,
          1460.3459959012648,
          1919.425521606775,
          1912.6142526793933,
          2129.212604570124,
          2089.707244791311,
          1655.1482872243746,
          1498.489101894601,
          2126.488096999171,
          1787.2869044155746,
          1463.0705034722173,
          1913.9765064648698,
          1581.5865828086548,
          1990.262718451542,
          1364.9882309179245,
          1569.3262987393682,
          1960.2931351710636,
          1758.6795749205726,
          1603.3826433762754,
          2115.5900667153605,
          2005.2475100917811,
          2125.1258432136947,
          1397.6823217693554,
          2021.5945555174967,
          1362.2637233469718,
          1587.0355979505598,
          1854.0373399039129,
          1975.2779268113027,
          1745.0570370658097,
          1420.8406361224525,
          2003.8852563063049,
          1964.3798965274925,
          1503.9381170365061,
          1882.644669398915,
          1885.3691769698676,
          1815.8942339105768,
          1915.338760250346,
          2167.35571056346,
          1354.0902006341141,
          1870.3843853296285,
          1897.6294610391542,
          1967.104404098445,
          2161.9066954215546,
          1781.8378892736696,
          1976.6401805967791,
          1871.7466391151047,
          1675.5820940065187,
          1315.947094640778,
          2165.9934567779833,
          2085.6204834348823,
          2175.5292332763174,
          1476.6930413269804,
          1918.0632678212985,
          1719.1742151417602,
          2058.3754077253566,
          1629.2654653003249,
          1482.1420564688856,
          1367.7127384888772,
          1321.3961097826832,
          1419.4783823369762,
          1892.180445897249,
          2172.804725705365,
          1704.1894235015209,
          1418.1161285515,
          1332.2941400664936,
          1814.5319801251005,
          1595.2091206634177,
          1961.6553889565398,
          1780.4756354881931,
          1978.0024343822554,
          1355.4524544195906,
          1773.6643665608117,
          1608.8316585181806,
          1358.176961990543,
          1475.330787541504,
          1596.571374448894,
          1866.2976239731995,
          1954.8441200291584,
          1306.411318142444,
          1483.5043102543618,
          2123.7635894282184,
          1740.9702757093808,
          1578.8620752377021,
          2032.492585801307,
          2062.4621690817853,
          1807.720711197719,
          2013.4210328046388,
          2078.8092145075007,
          1957.568627600111,
          1416.7538747660235,
          1589.7601055215125,
          1531.183192746032,
          2002.5230025208286,
          1309.1358257133966,
          1325.482871139112,
          1657.872794795327,
          1762.7663362770013,
          2145.559649995839,
          1377.2485149872111,
          2046.11512365607,
          1631.9899728712776,
          1860.8486088312943,
          1642.888003155088,
          2148.2841575667917,
          1378.6107687726874,
          1457.6214883303123,
          1832.2412793362923,
          1969.8289116693977,
          1898.9917148246304,
          2157.819934065126,
          1303.6868105714914,
          1791.3736657720035,
          1558.4282684555578,
          1735.5212605674756,
          1904.4407299665356,
          1555.7037608846053,
          1672.8575864355662,
          2017.5077941610677,
          1580.2243290231786,
          1573.413060095797,
          1602.0203895907991,
          1374.5240074162584,
          2022.956809302973,
          1437.1876815481678,
          1529.8209389605558,
          1340.4676627793513,
          1843.1393096201025,
          1841.7770558346263,
          1465.79501104317,
          2001.1607487353524,
          1445.3612042610257,
          1723.260976498189,
          1384.0597839145926,
          1638.8012417986588,
          2092.431752362264,
          1848.5883247620077,
          1611.556166089133,
          1502.57586325103,
          1851.3128323329604,
          1550.2547457427,
          1708.2761848579498,
          1937.1348208179666,
          1461.708249686741,
          1330.9318862810173,
          1539.3567154588898,
          1350.0034392776852,
          1761.404082491525,
          1396.3200679838792,
          2069.273438009167,
          1514.8361473203165,
          1968.4666578839212,
          1943.9460897453482,
          2037.941600943212,
          1855.3995936893891,
          1950.7573586727294,
          1412.6671134095945,
          2028.4058244448781,
          1779.1133817027169,
          2137.3861272829813,
          1584.3110903796073,
          2134.661619712029,
          2138.7483810684575,
          2183.7027559891753,
          1484.866564039838,
          1370.4372460598297,
          1512.1116397493638,
          1322.7583635681594,
          2047.4773774415462,
          1980.7269419532079,
          1386.784291485545,
          1768.2153514189065,
          1668.7708250791375,
          1682.3933629339003,
          1415.3916209805473,
          1732.796752996523,
          2170.0802181344125,
          1536.632207887937,
          1302.3245567860151,
          1881.2824156134388,
          2151.008665137744,
          1963.017642742016,
          1678.3066015774714,
          1407.2180982676896,
          1423.565143693405,
          1775.026620346288,
          1610.1939123036568,
          1537.9944616734133,
          1696.0159007886632,
          2099.243021289645,
          1689.2046318612818,
          1923.5122829632037,
          1884.0069231843913,
          1901.7162223955831,
          1563.8772835974628,
          1411.3048596241183,
          1588.397851736036,
          1310.4980794988728,
          2052.926392583451,
          1448.0857118319782,
          1627.9032115148486,
          1454.8969807593598,
          1683.7556167193766,
          1414.0293671950708,
          1671.49533265009,
          2155.0954264941734,
          2127.850350784647,
          1711.0006924289023,
          2176.8914870617937,
          1709.638438643426,
          1400.406829340308,
          2065.186676652738,
          1746.419290851286,
          2116.9523205008372,
          2076.084706936548,
          1833.6035331217686,
          1540.718969244366,
          1490.3155791817433,
          1922.1500291777274,
          1987.5382108805893,
          2111.503305358932,
          1869.0221315441522,
          2095.1562599332165,
          1329.5696324955409,
          2149.646411352268,
          1546.1679843862712,
          1422.2028899079287,
          1979.3646881677316,
          1933.0480594615378,
          1513.47389353484,
          1521.647416247698,
          1305.0490643569678,
          2018.870047946544,
          2054.288646368928,
          1926.2367905341562,
          1371.799499845306,
          1565.2395373829393,
          1988.9004646660658,
          1394.957814198403,
          2066.5489304382145,
          1623.8164501584197,
          1817.256487696053,
          2101.9675288605977,
          1525.7341776041267,
          2077.4469607220244,
          2009.33427144821,
          2093.79400614774,
          2014.7832865901153,
          1886.7314307553438,
          1314.5848408553018,
          1646.9747645115167,
          1764.1285900624778,
          1796.8226809139087,
          1681.031109148424,
          1634.71448044223,
          1803.6339498412901,
          1644.2502569405642,
          1840.41480204915,
          2114.2278129298843,
          1435.8254277626916,
          1697.3781545741394,
          2073.3601993655957,
          1889.4559383262965,
          1769.577605204383,
          1311.860333284349,
          1450.8102194029307,
          1700.102662145092,
          2057.0131539398803,
          1663.321809937232,
          1839.0525482636738,
          1864.9353701877233,
          1456.259234544836,
          1551.6169995281762,
          2156.4576802796496,
          1375.8862612017347,
          1982.0891957386843,
          1544.805730600795,
          1493.040086752696,
          1424.9273974788812,
          2122.401335642742,
          1557.0660146700816,
          1570.6885525248445,
          1877.19565425701,
          1903.0784761810594,
          1852.6750861184366,
          1698.7404083596157,
          2088.344991005835,
          1686.480124290329,
          1873.108892900581,
          2044.7528698705937,
          1828.1545179798634,
          1916.7010140358223,
          1497.1268481091247,
          1844.501563405579,
          1468.5195186141227,
          1772.3021127753354,
          1721.8987227127127,
          2180.978248418223,
          1449.4479656174544,
          1300.9623030005387,
          1533.9077003169846,
          1648.337018296993,
          1494.4023405381722,
          2059.737661510833,
          1337.7431552083985,
          1408.5803520531658,
          1352.7279468486379,
          1659.2350485808033,
          1998.4362411643997,
          1893.5426996827255,
          2121.039081857266,
          1373.1617536307822,
          1670.1330788646137,
          1809.0829649831953,
          1505.3003708219826,
          2171.4424719198887,
          1446.723458046502,
          1614.2806736600858,
          1506.6626246074588,
          1328.2073787100646,
          1554.3415070991289,
          1908.5274913229646,
          1813.169726339624,
          1994.349479807971,
          1691.9291394322343,
          1487.5910716107906,
          1776.3888741317644,
          1739.6080219239045,
          1335.018647637446,
          1637.4389880131826,
          1345.9166779212565,
          1736.8835143529518,
          1784.562396844622,
          1585.6733441650836,
          1591.1223593069888,
          1478.0552951124566,
          1798.184934699385,
          2050.2018850124987,
          1403.1313369112606,
          1825.4300104089107,
          1859.486355045818,
          1562.5150298119866,
          1499.8513556800772,
          2042.028362299641,
          1717.8119613562837,
          1341.8299165648275,
          2081.5337220784536,
          1810.4452187686716,
          1845.8638171910552,
          1427.6519050498339,
          1615.642927445562,
          2104.6920364315506,
          1679.6688553629476,
          1999.798494949876,
          1495.7645943236485,
          1336.3809014229223,
          2118.3145742863135,
          2130.5748583556,
          1535.2699541024608,
          2178.25374084727,
          2035.2170933722596,
          1754.5928135641436,
          1299.6000492150624,
          1307.7735719279203,
          1433.100920191739,
          1649.6992720824692,
          2082.89597586393,
          1369.0749922743535,
          1401.7690831257844,
          1725.9854840691414,
          1472.6062799705514
         ]
        }
       ],
       "layout": {
        "template": {
         "data": {
          "bar": [
           {
            "error_x": {
             "color": "#2a3f5f"
            },
            "error_y": {
             "color": "#2a3f5f"
            },
            "marker": {
             "line": {
              "color": "#E5ECF6",
              "width": 0.5
             }
            },
            "type": "bar"
           }
          ],
          "barpolar": [
           {
            "marker": {
             "line": {
              "color": "#E5ECF6",
              "width": 0.5
             }
            },
            "type": "barpolar"
           }
          ],
          "carpet": [
           {
            "aaxis": {
             "endlinecolor": "#2a3f5f",
             "gridcolor": "white",
             "linecolor": "white",
             "minorgridcolor": "white",
             "startlinecolor": "#2a3f5f"
            },
            "baxis": {
             "endlinecolor": "#2a3f5f",
             "gridcolor": "white",
             "linecolor": "white",
             "minorgridcolor": "white",
             "startlinecolor": "#2a3f5f"
            },
            "type": "carpet"
           }
          ],
          "choropleth": [
           {
            "colorbar": {
             "outlinewidth": 0,
             "ticks": ""
            },
            "type": "choropleth"
           }
          ],
          "contour": [
           {
            "colorbar": {
             "outlinewidth": 0,
             "ticks": ""
            },
            "colorscale": [
             [
              0,
              "#0d0887"
             ],
             [
              0.1111111111111111,
              "#46039f"
             ],
             [
              0.2222222222222222,
              "#7201a8"
             ],
             [
              0.3333333333333333,
              "#9c179e"
             ],
             [
              0.4444444444444444,
              "#bd3786"
             ],
             [
              0.5555555555555556,
              "#d8576b"
             ],
             [
              0.6666666666666666,
              "#ed7953"
             ],
             [
              0.7777777777777778,
              "#fb9f3a"
             ],
             [
              0.8888888888888888,
              "#fdca26"
             ],
             [
              1,
              "#f0f921"
             ]
            ],
            "type": "contour"
           }
          ],
          "contourcarpet": [
           {
            "colorbar": {
             "outlinewidth": 0,
             "ticks": ""
            },
            "type": "contourcarpet"
           }
          ],
          "heatmap": [
           {
            "colorbar": {
             "outlinewidth": 0,
             "ticks": ""
            },
            "colorscale": [
             [
              0,
              "#0d0887"
             ],
             [
              0.1111111111111111,
              "#46039f"
             ],
             [
              0.2222222222222222,
              "#7201a8"
             ],
             [
              0.3333333333333333,
              "#9c179e"
             ],
             [
              0.4444444444444444,
              "#bd3786"
             ],
             [
              0.5555555555555556,
              "#d8576b"
             ],
             [
              0.6666666666666666,
              "#ed7953"
             ],
             [
              0.7777777777777778,
              "#fb9f3a"
             ],
             [
              0.8888888888888888,
              "#fdca26"
             ],
             [
              1,
              "#f0f921"
             ]
            ],
            "type": "heatmap"
           }
          ],
          "heatmapgl": [
           {
            "colorbar": {
             "outlinewidth": 0,
             "ticks": ""
            },
            "colorscale": [
             [
              0,
              "#0d0887"
             ],
             [
              0.1111111111111111,
              "#46039f"
             ],
             [
              0.2222222222222222,
              "#7201a8"
             ],
             [
              0.3333333333333333,
              "#9c179e"
             ],
             [
              0.4444444444444444,
              "#bd3786"
             ],
             [
              0.5555555555555556,
              "#d8576b"
             ],
             [
              0.6666666666666666,
              "#ed7953"
             ],
             [
              0.7777777777777778,
              "#fb9f3a"
             ],
             [
              0.8888888888888888,
              "#fdca26"
             ],
             [
              1,
              "#f0f921"
             ]
            ],
            "type": "heatmapgl"
           }
          ],
          "histogram": [
           {
            "marker": {
             "colorbar": {
              "outlinewidth": 0,
              "ticks": ""
             }
            },
            "type": "histogram"
           }
          ],
          "histogram2d": [
           {
            "colorbar": {
             "outlinewidth": 0,
             "ticks": ""
            },
            "colorscale": [
             [
              0,
              "#0d0887"
             ],
             [
              0.1111111111111111,
              "#46039f"
             ],
             [
              0.2222222222222222,
              "#7201a8"
             ],
             [
              0.3333333333333333,
              "#9c179e"
             ],
             [
              0.4444444444444444,
              "#bd3786"
             ],
             [
              0.5555555555555556,
              "#d8576b"
             ],
             [
              0.6666666666666666,
              "#ed7953"
             ],
             [
              0.7777777777777778,
              "#fb9f3a"
             ],
             [
              0.8888888888888888,
              "#fdca26"
             ],
             [
              1,
              "#f0f921"
             ]
            ],
            "type": "histogram2d"
           }
          ],
          "histogram2dcontour": [
           {
            "colorbar": {
             "outlinewidth": 0,
             "ticks": ""
            },
            "colorscale": [
             [
              0,
              "#0d0887"
             ],
             [
              0.1111111111111111,
              "#46039f"
             ],
             [
              0.2222222222222222,
              "#7201a8"
             ],
             [
              0.3333333333333333,
              "#9c179e"
             ],
             [
              0.4444444444444444,
              "#bd3786"
             ],
             [
              0.5555555555555556,
              "#d8576b"
             ],
             [
              0.6666666666666666,
              "#ed7953"
             ],
             [
              0.7777777777777778,
              "#fb9f3a"
             ],
             [
              0.8888888888888888,
              "#fdca26"
             ],
             [
              1,
              "#f0f921"
             ]
            ],
            "type": "histogram2dcontour"
           }
          ],
          "mesh3d": [
           {
            "colorbar": {
             "outlinewidth": 0,
             "ticks": ""
            },
            "type": "mesh3d"
           }
          ],
          "parcoords": [
           {
            "line": {
             "colorbar": {
              "outlinewidth": 0,
              "ticks": ""
             }
            },
            "type": "parcoords"
           }
          ],
          "pie": [
           {
            "automargin": true,
            "type": "pie"
           }
          ],
          "scatter": [
           {
            "marker": {
             "colorbar": {
              "outlinewidth": 0,
              "ticks": ""
             }
            },
            "type": "scatter"
           }
          ],
          "scatter3d": [
           {
            "line": {
             "colorbar": {
              "outlinewidth": 0,
              "ticks": ""
             }
            },
            "marker": {
             "colorbar": {
              "outlinewidth": 0,
              "ticks": ""
             }
            },
            "type": "scatter3d"
           }
          ],
          "scattercarpet": [
           {
            "marker": {
             "colorbar": {
              "outlinewidth": 0,
              "ticks": ""
             }
            },
            "type": "scattercarpet"
           }
          ],
          "scattergeo": [
           {
            "marker": {
             "colorbar": {
              "outlinewidth": 0,
              "ticks": ""
             }
            },
            "type": "scattergeo"
           }
          ],
          "scattergl": [
           {
            "marker": {
             "colorbar": {
              "outlinewidth": 0,
              "ticks": ""
             }
            },
            "type": "scattergl"
           }
          ],
          "scattermapbox": [
           {
            "marker": {
             "colorbar": {
              "outlinewidth": 0,
              "ticks": ""
             }
            },
            "type": "scattermapbox"
           }
          ],
          "scatterpolar": [
           {
            "marker": {
             "colorbar": {
              "outlinewidth": 0,
              "ticks": ""
             }
            },
            "type": "scatterpolar"
           }
          ],
          "scatterpolargl": [
           {
            "marker": {
             "colorbar": {
              "outlinewidth": 0,
              "ticks": ""
             }
            },
            "type": "scatterpolargl"
           }
          ],
          "scatterternary": [
           {
            "marker": {
             "colorbar": {
              "outlinewidth": 0,
              "ticks": ""
             }
            },
            "type": "scatterternary"
           }
          ],
          "surface": [
           {
            "colorbar": {
             "outlinewidth": 0,
             "ticks": ""
            },
            "colorscale": [
             [
              0,
              "#0d0887"
             ],
             [
              0.1111111111111111,
              "#46039f"
             ],
             [
              0.2222222222222222,
              "#7201a8"
             ],
             [
              0.3333333333333333,
              "#9c179e"
             ],
             [
              0.4444444444444444,
              "#bd3786"
             ],
             [
              0.5555555555555556,
              "#d8576b"
             ],
             [
              0.6666666666666666,
              "#ed7953"
             ],
             [
              0.7777777777777778,
              "#fb9f3a"
             ],
             [
              0.8888888888888888,
              "#fdca26"
             ],
             [
              1,
              "#f0f921"
             ]
            ],
            "type": "surface"
           }
          ],
          "table": [
           {
            "cells": {
             "fill": {
              "color": "#EBF0F8"
             },
             "line": {
              "color": "white"
             }
            },
            "header": {
             "fill": {
              "color": "#C8D4E3"
             },
             "line": {
              "color": "white"
             }
            },
            "type": "table"
           }
          ]
         },
         "layout": {
          "annotationdefaults": {
           "arrowcolor": "#2a3f5f",
           "arrowhead": 0,
           "arrowwidth": 1
          },
          "autotypenumbers": "strict",
          "coloraxis": {
           "colorbar": {
            "outlinewidth": 0,
            "ticks": ""
           }
          },
          "colorscale": {
           "diverging": [
            [
             0,
             "#8e0152"
            ],
            [
             0.1,
             "#c51b7d"
            ],
            [
             0.2,
             "#de77ae"
            ],
            [
             0.3,
             "#f1b6da"
            ],
            [
             0.4,
             "#fde0ef"
            ],
            [
             0.5,
             "#f7f7f7"
            ],
            [
             0.6,
             "#e6f5d0"
            ],
            [
             0.7,
             "#b8e186"
            ],
            [
             0.8,
             "#7fbc41"
            ],
            [
             0.9,
             "#4d9221"
            ],
            [
             1,
             "#276419"
            ]
           ],
           "sequential": [
            [
             0,
             "#0d0887"
            ],
            [
             0.1111111111111111,
             "#46039f"
            ],
            [
             0.2222222222222222,
             "#7201a8"
            ],
            [
             0.3333333333333333,
             "#9c179e"
            ],
            [
             0.4444444444444444,
             "#bd3786"
            ],
            [
             0.5555555555555556,
             "#d8576b"
            ],
            [
             0.6666666666666666,
             "#ed7953"
            ],
            [
             0.7777777777777778,
             "#fb9f3a"
            ],
            [
             0.8888888888888888,
             "#fdca26"
            ],
            [
             1,
             "#f0f921"
            ]
           ],
           "sequentialminus": [
            [
             0,
             "#0d0887"
            ],
            [
             0.1111111111111111,
             "#46039f"
            ],
            [
             0.2222222222222222,
             "#7201a8"
            ],
            [
             0.3333333333333333,
             "#9c179e"
            ],
            [
             0.4444444444444444,
             "#bd3786"
            ],
            [
             0.5555555555555556,
             "#d8576b"
            ],
            [
             0.6666666666666666,
             "#ed7953"
            ],
            [
             0.7777777777777778,
             "#fb9f3a"
            ],
            [
             0.8888888888888888,
             "#fdca26"
            ],
            [
             1,
             "#f0f921"
            ]
           ]
          },
          "colorway": [
           "#636efa",
           "#EF553B",
           "#00cc96",
           "#ab63fa",
           "#FFA15A",
           "#19d3f3",
           "#FF6692",
           "#B6E880",
           "#FF97FF",
           "#FECB52"
          ],
          "font": {
           "color": "#2a3f5f"
          },
          "geo": {
           "bgcolor": "white",
           "lakecolor": "white",
           "landcolor": "#E5ECF6",
           "showlakes": true,
           "showland": true,
           "subunitcolor": "white"
          },
          "hoverlabel": {
           "align": "left"
          },
          "hovermode": "closest",
          "mapbox": {
           "style": "light"
          },
          "paper_bgcolor": "white",
          "plot_bgcolor": "#E5ECF6",
          "polar": {
           "angularaxis": {
            "gridcolor": "white",
            "linecolor": "white",
            "ticks": ""
           },
           "bgcolor": "#E5ECF6",
           "radialaxis": {
            "gridcolor": "white",
            "linecolor": "white",
            "ticks": ""
           }
          },
          "scene": {
           "xaxis": {
            "backgroundcolor": "#E5ECF6",
            "gridcolor": "white",
            "gridwidth": 2,
            "linecolor": "white",
            "showbackground": true,
            "ticks": "",
            "zerolinecolor": "white"
           },
           "yaxis": {
            "backgroundcolor": "#E5ECF6",
            "gridcolor": "white",
            "gridwidth": 2,
            "linecolor": "white",
            "showbackground": true,
            "ticks": "",
            "zerolinecolor": "white"
           },
           "zaxis": {
            "backgroundcolor": "#E5ECF6",
            "gridcolor": "white",
            "gridwidth": 2,
            "linecolor": "white",
            "showbackground": true,
            "ticks": "",
            "zerolinecolor": "white"
           }
          },
          "shapedefaults": {
           "line": {
            "color": "#2a3f5f"
           }
          },
          "ternary": {
           "aaxis": {
            "gridcolor": "white",
            "linecolor": "white",
            "ticks": ""
           },
           "baxis": {
            "gridcolor": "white",
            "linecolor": "white",
            "ticks": ""
           },
           "bgcolor": "#E5ECF6",
           "caxis": {
            "gridcolor": "white",
            "linecolor": "white",
            "ticks": ""
           }
          },
          "title": {
           "x": 0.05
          },
          "xaxis": {
           "automargin": true,
           "gridcolor": "white",
           "linecolor": "white",
           "ticks": "",
           "title": {
            "standoff": 15
           },
           "zerolinecolor": "white",
           "zerolinewidth": 2
          },
          "yaxis": {
           "automargin": true,
           "gridcolor": "white",
           "linecolor": "white",
           "ticks": "",
           "title": {
            "standoff": 15
           },
           "zerolinecolor": "white",
           "zerolinewidth": 2
          }
         }
        },
        "title": {
         "text": "Stock Prices of HDFC"
        },
        "xaxis": {
         "title": {
          "font": {
           "color": "#7f7f7f",
           "family": "Courier New, monospace",
           "size": 18
          },
          "text": "Day"
         }
        },
        "yaxis": {
         "title": {
          "font": {
           "color": "#7f7f7f",
           "family": "Courier New, monospace",
           "size": 18
          },
          "text": "Price"
         }
        }
       }
      },
      "text/html": [
       "<div>                            <div id=\"09d8f4ba-4b85-496c-997e-f90530c21cbb\" class=\"plotly-graph-div\" style=\"height:525px; width:100%;\"></div>            <script type=\"text/javascript\">                require([\"plotly\"], function(Plotly) {                    window.PLOTLYENV=window.PLOTLYENV || {};                                    if (document.getElementById(\"09d8f4ba-4b85-496c-997e-f90530c21cbb\")) {                    Plotly.newPlot(                        \"09d8f4ba-4b85-496c-997e-f90530c21cbb\",                        [{\"mode\": \"markers\", \"name\": \"Actual\", \"type\": \"scatter\", \"x\": [410, 124, 545, 104, 524, 233, 414, 605, 625, 430, 608, 228, 266, 569, 191, 205, 527, 573, 19, 278, 399, 472, 86, 458, 446, 652, 265, 396, 533, 156, 415, 161, 288, 89, 60, 630, 347, 636, 363, 286, 287, 30, 268, 426, 345, 113, 188, 617, 194, 582, 299, 479, 467, 65, 56, 459, 216, 116, 390, 274, 166, 331, 181, 142, 553, 318, 413, 281, 290, 95, 28, 308, 121, 352, 360, 511, 189, 485, 170, 15, 529, 179, 91, 403, 283, 483, 585, 69, 532, 195, 200, 41, 70, 389, 504, 43, 292, 530, 199, 443, 143, 602, 452, 165, 313, 427, 51, 132, 44, 578, 120, 604, 439, 243, 154, 323, 561, 133, 162, 500, 222, 220, 271, 198, 13, 610, 231, 211, 160, 17, 296, 153, 230, 374, 638, 14, 73, 7, 520, 196, 342, 93, 408, 516, 600, 634, 562, 215, 9, 353, 563, 626, 272, 433, 164, 297, 152, 609, 302, 423, 607, 521, 432, 234, 169, 645, 515, 45, 326, 445, 112, 90, 277, 126, 78, 167, 564, 437, 480, 134, 643, 631, 387, 310, 29, 593, 102, 406, 238, 398, 27, 592, 534, 259, 158, 210, 20, 647, 289, 460, 330, 206, 462, 376, 123, 444, 449, 428, 595, 119, 549, 481, 620, 251, 252, 528, 135, 543, 339, 588, 401, 68, 247, 421, 501, 245, 466, 350, 182, 531, 627, 474, 613, 311, 579, 85, 492, 159, 177, 108, 242, 172, 567, 115, 298, 35, 441, 37, 34, 1, 514, 598, 494, 633, 101, 150, 586, 306, 379, 369, 565, 332, 11, 476, 648, 223, 25, 163, 372, 571, 559, 301, 422, 475, 359, 63, 364, 192, 221, 208, 456, 568, 438, 642, 97, 541, 409, 536, 368, 566, 377, 22, 42, 348, 6, 349, 576, 88, 322, 50, 80, 258, 473, 510, 193, 145, 54, 232, 66, 628, 26, 469, 560, 151, 185, 493, 487, 646, 122, 96, 190, 597, 455, 144, 580, 87, 412, 270, 61, 484, 79, 129, 67, 125, 219, 639, 395, 309, 285, 370, 404, 280, 397, 253, 52, 550, 358, 82, 217, 305, 641, 539, 356, 94, 383, 254, 235, 535, 465, 21, 594, 149, 470, 508, 558, 46, 461, 451, 226, 207, 244, 357, 71, 366, 229, 103, 262, 197, 505, 250, 526, 303, 340, 3, 540, 649, 478, 394, 507, 92, 622, 570, 611, 386, 137, 214, 47, 596, 378, 276, 499, 10, 542, 419, 498, 629, 463, 203, 273, 140, 362, 512, 300, 327, 624, 402, 616, 329, 294, 440, 436, 519, 284, 99, 574, 264, 239, 457, 503, 105, 343, 619, 76, 275, 249, 556, 418, 59, 371, 136, 506, 623, 49, 40, 477, 5, 110, 316, 650, 644, 552, 393, 75, 599, 575, 337, 523], \"y\": [298.5, 2034.0, 2653.45, 2129.7, 648.0, 2189.0, 304.0, 2740.0, 2546.9, 320.0, 826.0, 2265.95, 1724.0, 2560.0, 2420.0, 2389.95, 2451.85, 2431.5, 1951.45, 1634.0, 1667.0, 528.0, 2085.1, 440.0, 364.0, 789.0, 1600.6, 310.0, 2521.7, 2239.0, 1920.0, 2294.0, 1732.0, 2185.1, 2164.25, 850.0, 1819.05, 830.0, 1881.0, 1633.0, 1667.0, 1964.2, 1916.15, 325.0, 1801.95, 2089.85, 2469.9, 2610.0, 2460.0, 802.0, 1820.0, 2327.5, 2318.0, 2275.15, 2203.0, 2102.3, 2412.1, 1988.85, 319.0, 1660.0, 2306.65, 1804.95, 2432.0, 2103.9, 2672.0, 1853.65, 1782.35, 1634.5, 1833.0, 2099.0, 1926.8, 1742.75, 2131.0, 320.0, 333.8, 2300.55, 2452.05, 2220.0, 2262.0, 2005.0, 2485.0, 2412.1, 2176.3, 1652.75, 1515.85, 2253.05, 2721.0, 2240.0, 717.0, 2461.5, 2454.3, 2144.0, 2230.95, 1768.0, 569.0, 2184.0, 1775.0, 677.0, 2452.7, 2073.0, 2114.75, 885.0, 350.0, 2296.0, 1871.55, 1978.1, 2196.0, 2007.0, 2230.35, 731.25, 2159.9, 845.0, 2046.0, 1776.9, 2222.8, 1804.05, 2651.05, 2009.0, 2298.8, 543.0, 2324.05, 2400.25, 1735.0, 2481.45, 2012.0, 825.0, 2194.95, 2265.0, 2240.0, 1930.0, 1790.0, 2207.45, 2183.7, 328.0, 820.0, 2027.2, 2270.0, 2064.5, 666.0, 2488.3, 300.0, 2101.85, 299.0, 624.05, 930.0, 826.5, 768.9, 2405.0, 2067.0, 1803.0, 2673.0, 810.0, 1707.0, 2033.25, 2307.9, 1790.0, 2236.15, 2629.0, 1840.3, 1963.95, 2655.0, 2404.45, 326.0, 2109.5, 2321.25, 2536.2, 2415.0, 2229.15, 1872.25, 2029.75, 2082.8, 2171.0, 1636.2, 1991.85, 2182.3, 2321.9, 760.0, 2045.8, 548.5, 2013.0, 2525.4, 2600.0, 1763.0, 1836.8, 1957.0, 2753.4, 2182.6, 300.0, 2072.65, 300.0, 1914.15, 880.0, 714.95, 1680.0, 2196.0, 2262.0, 1976.95, 2512.3, 1817.0, 435.0, 1879.65, 2433.4, 445.15, 328.0, 2065.9, 370.0, 1937.55, 330.0, 2789.0, 2045.0, 2747.1, 2329.0, 833.6, 1588.0, 1499.75, 662.5, 2051.8, 2631.0, 1829.0, 870.0, 1636.25, 2263.1, 1755.0, 1966.0, 2303.0, 1504.35, 526.9, 324.9, 2413.0, 2511.0, 2512.0, 539.0, 2687.0, 1892.85, 2658.7, 2123.15, 535.0, 2210.4, 2426.25, 2041.0, 1620.0, 2288.55, 2589.95, 1995.6, 1752.0, 2118.0, 2062.75, 2128.95, 2120.05, 1942.1, 582.75, 933.0, 572.0, 2568.0, 2150.0, 2250.0, 864.0, 1775.95, 1763.5, 1829.5, 2671.0, 1786.5, 2018.1, 555.0, 774.0, 2379.0, 1964.5, 2336.0, 330.2, 2470.0, 2569.4, 1847.5, 332.4, 2344.85, 1810.75, 2250.1, 344.0, 2400.0, 2349.9, 2411.0, 415.15, 725.45, 345.15, 786.0, 2090.8, 2654.95, 1733.0, 755.0, 336.0, 770.0, 1775.35, 2018.0, 2179.1, 321.2, 2041.9, 1827.55, 662.0, 2151.7, 1812.05, 2185.0, 2179.9, 1630.0, 2312.6, 542.7, 2454.0, 2137.0, 2156.0, 2209.1, 2278.1, 800.0, 1930.1, 2326.05, 717.9, 2230.0, 2440.0, 2296.2, 2186.8, 774.95, 2067.85, 2110.9, 2389.95, 2861.55, 2121.35, 2103.0, 763.85, 2135.75, 300.0, 1697.0, 2196.3, 504.0, 2140.0, 1969.0, 2270.0, 1977.05, 2404.0, 2510.0, 1707.75, 1761.0, 1570.55, 335.0, 300.0, 1545.0, 1676.4, 1570.0, 2182.95, 850.0, 335.0, 2165.0, 2436.0, 1797.65, 2507.8, 2579.0, 335.0, 2113.9, 1765.05, 1560.0, 2025.5, 2549.95, 2268.95, 1995.55, 880.0, 2221.0, 553.0, 550.0, 765.0, 2184.0, 2136.35, 1921.0, 2307.0, 2406.3, 1520.7, 1831.4, 2260.65, 327.0, 2186.0, 2189.9, 1670.0, 2491.7, 2306.0, 1625.0, 645.0, 1820.5, 1821.0, 1951.0, 756.15, 2465.0, 570.0, 314.95, 2289.8, 2214.0, 864.0, 698.0, 2709.0, 314.0, 2096.0, 2433.0, 2207.0, 885.15, 326.25, 1716.0, 2247.2, 2029.95, 798.5, 1947.8, 542.55, 2578.0, 2156.0, 2429.0, 1689.75, 2145.15, 339.95, 548.0, 1793.4, 1841.0, 826.0, 300.0, 806.55, 1892.0, 1771.0, 345.0, 329.0, 2472.8, 1506.4, 2012.3, 658.5, 1588.0, 1858.0, 2085.0, 2309.0, 2165.0, 1793.75, 2575.0, 2338.0, 1671.9, 1564.0, 790.0, 319.95, 2171.0, 1811.25, 2085.45, 549.6, 2584.9, 2184.55, 2158.0, 2360.0, 2008.75, 2066.7, 1944.5, 756.4, 780.0, 850.0, 1732.6, 2285.4, 2853.85, 2378.0, 1779.9, 2398.5]}, {\"mode\": \"lines\", \"name\": \"Predicted\", \"type\": \"scatter\", \"x\": [410, 124, 545, 104, 524, 233, 414, 605, 625, 430, 608, 228, 266, 569, 191, 205, 527, 573, 19, 278, 399, 472, 86, 458, 446, 652, 265, 396, 533, 156, 415, 161, 288, 89, 60, 630, 347, 636, 363, 286, 287, 30, 268, 426, 345, 113, 188, 617, 194, 582, 299, 479, 467, 65, 56, 459, 216, 116, 390, 274, 166, 331, 181, 142, 553, 318, 413, 281, 290, 95, 28, 308, 121, 352, 360, 511, 189, 485, 170, 15, 529, 179, 91, 403, 283, 483, 585, 69, 532, 195, 200, 41, 70, 389, 504, 43, 292, 530, 199, 443, 143, 602, 452, 165, 313, 427, 51, 132, 44, 578, 120, 604, 439, 243, 154, 323, 561, 133, 162, 500, 222, 220, 271, 198, 13, 610, 231, 211, 160, 17, 296, 153, 230, 374, 638, 14, 73, 7, 520, 196, 342, 93, 408, 516, 600, 634, 562, 215, 9, 353, 563, 626, 272, 433, 164, 297, 152, 609, 302, 423, 607, 521, 432, 234, 169, 645, 515, 45, 326, 445, 112, 90, 277, 126, 78, 167, 564, 437, 480, 134, 643, 631, 387, 310, 29, 593, 102, 406, 238, 398, 27, 592, 534, 259, 158, 210, 20, 647, 289, 460, 330, 206, 462, 376, 123, 444, 449, 428, 595, 119, 549, 481, 620, 251, 252, 528, 135, 543, 339, 588, 401, 68, 247, 421, 501, 245, 466, 350, 182, 531, 627, 474, 613, 311, 579, 85, 492, 159, 177, 108, 242, 172, 567, 115, 298, 35, 441, 37, 34, 1, 514, 598, 494, 633, 101, 150, 586, 306, 379, 369, 565, 332, 11, 476, 648, 223, 25, 163, 372, 571, 559, 301, 422, 475, 359, 63, 364, 192, 221, 208, 456, 568, 438, 642, 97, 541, 409, 536, 368, 566, 377, 22, 42, 348, 6, 349, 576, 88, 322, 50, 80, 258, 473, 510, 193, 145, 54, 232, 66, 628, 26, 469, 560, 151, 185, 493, 487, 646, 122, 96, 190, 597, 455, 144, 580, 87, 412, 270, 61, 484, 79, 129, 67, 125, 219, 639, 395, 309, 285, 370, 404, 280, 397, 253, 52, 550, 358, 82, 217, 305, 641, 539, 356, 94, 383, 254, 235, 535, 465, 21, 594, 149, 470, 508, 558, 46, 461, 451, 226, 207, 244, 357, 71, 366, 229, 103, 262, 197, 505, 250, 526, 303, 340, 3, 540, 649, 478, 394, 507, 92, 622, 570, 611, 386, 137, 214, 47, 596, 378, 276, 499, 10, 542, 419, 498, 629, 463, 203, 273, 140, 362, 512, 300, 327, 624, 402, 616, 329, 294, 440, 436, 519, 284, 99, 574, 264, 239, 457, 503, 105, 343, 619, 76, 275, 249, 556, 418, 59, 371, 136, 506, 623, 49, 40, 477, 5, 110, 316, 650, 644, 552, 393, 75, 599, 575, 337, 523], \"y\": [1626.5409577293722, 2016.1455403755915, 1442.6366966900732, 2043.3906160851172, 1471.2440261850752, 1867.6598777586757, 1621.0919425874672, 1360.9014695614956, 1333.6563938519698, 1599.2958820198464, 1356.8147082050668, 1874.4711466860572, 1822.7055028379582, 1409.942605838642, 1924.87453674868, 1905.8029837520119, 1467.1572648286462, 1404.4935906967369, 2159.182187850602, 1806.3584574122428, 1641.5257493696115, 1542.0812230298422, 2067.9111842236907, 1561.1527760265103, 1577.499821452226, 1296.87554164411, 1824.0677566234344, 1645.6125107260405, 1458.9837421157886, 1972.5534192403502, 1619.729688801991, 1965.7421503129688, 1792.7359195574797, 2063.8244228672615, 2103.329782646074, 1326.8451249245884, 1712.3629462143786, 1318.6716022117307, 1690.566885646758, 1795.4604271284325, 1794.0981733429562, 2144.197396210363, 1819.9809952670057, 1604.7448971617516, 1715.0874537853313, 2031.1303320158306, 1928.9612981051089, 1344.5544241357802, 1920.7877753922512, 1392.2333066274505, 1777.7511279172406, 1532.5454465315083, 1548.8924919572237, 2096.5185137186927, 2108.7787977879793, 1559.790522241034, 1890.8181921117728, 2027.043570659402, 1653.7860334388981, 1811.8074725541478, 1958.9308813855873, 1734.1590067819993, 1938.497074603443, 1991.6249722370183, 1431.7386664062628, 1751.8683059931911, 1622.4541963729434, 1802.271696055814, 1790.0114119865273, 2055.650900154404, 2146.9219037813155, 1765.490843847954, 2020.2323017320205, 1705.5516772869971, 1694.653647003187, 1488.9533253962668, 1927.5990443196326, 1524.3719238186504, 1953.4818662436821, 2164.631202992507, 1464.4327572576938, 1941.2215821743955, 2061.099915296309, 1636.0767342277063, 1799.5471884848612, 1527.0964313896031, 1388.1465452710213, 2091.0694985767877, 1460.3459959012648, 1919.425521606775, 1912.6142526793933, 2129.212604570124, 2089.707244791311, 1655.1482872243746, 1498.489101894601, 2126.488096999171, 1787.2869044155746, 1463.0705034722173, 1913.9765064648698, 1581.5865828086548, 1990.262718451542, 1364.9882309179245, 1569.3262987393682, 1960.2931351710636, 1758.6795749205726, 1603.3826433762754, 2115.5900667153605, 2005.2475100917811, 2125.1258432136947, 1397.6823217693554, 2021.5945555174967, 1362.2637233469718, 1587.0355979505598, 1854.0373399039129, 1975.2779268113027, 1745.0570370658097, 1420.8406361224525, 2003.8852563063049, 1964.3798965274925, 1503.9381170365061, 1882.644669398915, 1885.3691769698676, 1815.8942339105768, 1915.338760250346, 2167.35571056346, 1354.0902006341141, 1870.3843853296285, 1897.6294610391542, 1967.104404098445, 2161.9066954215546, 1781.8378892736696, 1976.6401805967791, 1871.7466391151047, 1675.5820940065187, 1315.947094640778, 2165.9934567779833, 2085.6204834348823, 2175.5292332763174, 1476.6930413269804, 1918.0632678212985, 1719.1742151417602, 2058.3754077253566, 1629.2654653003249, 1482.1420564688856, 1367.7127384888772, 1321.3961097826832, 1419.4783823369762, 1892.180445897249, 2172.804725705365, 1704.1894235015209, 1418.1161285515, 1332.2941400664936, 1814.5319801251005, 1595.2091206634177, 1961.6553889565398, 1780.4756354881931, 1978.0024343822554, 1355.4524544195906, 1773.6643665608117, 1608.8316585181806, 1358.176961990543, 1475.330787541504, 1596.571374448894, 1866.2976239731995, 1954.8441200291584, 1306.411318142444, 1483.5043102543618, 2123.7635894282184, 1740.9702757093808, 1578.8620752377021, 2032.492585801307, 2062.4621690817853, 1807.720711197719, 2013.4210328046388, 2078.8092145075007, 1957.568627600111, 1416.7538747660235, 1589.7601055215125, 1531.183192746032, 2002.5230025208286, 1309.1358257133966, 1325.482871139112, 1657.872794795327, 1762.7663362770013, 2145.559649995839, 1377.2485149872111, 2046.11512365607, 1631.9899728712776, 1860.8486088312943, 1642.888003155088, 2148.2841575667917, 1378.6107687726874, 1457.6214883303123, 1832.2412793362923, 1969.8289116693977, 1898.9917148246304, 2157.819934065126, 1303.6868105714914, 1791.3736657720035, 1558.4282684555578, 1735.5212605674756, 1904.4407299665356, 1555.7037608846053, 1672.8575864355662, 2017.5077941610677, 1580.2243290231786, 1573.413060095797, 1602.0203895907991, 1374.5240074162584, 2022.956809302973, 1437.1876815481678, 1529.8209389605558, 1340.4676627793513, 1843.1393096201025, 1841.7770558346263, 1465.79501104317, 2001.1607487353524, 1445.3612042610257, 1723.260976498189, 1384.0597839145926, 1638.8012417986588, 2092.431752362264, 1848.5883247620077, 1611.556166089133, 1502.57586325103, 1851.3128323329604, 1550.2547457427, 1708.2761848579498, 1937.1348208179666, 1461.708249686741, 1330.9318862810173, 1539.3567154588898, 1350.0034392776852, 1761.404082491525, 1396.3200679838792, 2069.273438009167, 1514.8361473203165, 1968.4666578839212, 1943.9460897453482, 2037.941600943212, 1855.3995936893891, 1950.7573586727294, 1412.6671134095945, 2028.4058244448781, 1779.1133817027169, 2137.3861272829813, 1584.3110903796073, 2134.661619712029, 2138.7483810684575, 2183.7027559891753, 1484.866564039838, 1370.4372460598297, 1512.1116397493638, 1322.7583635681594, 2047.4773774415462, 1980.7269419532079, 1386.784291485545, 1768.2153514189065, 1668.7708250791375, 1682.3933629339003, 1415.3916209805473, 1732.796752996523, 2170.0802181344125, 1536.632207887937, 1302.3245567860151, 1881.2824156134388, 2151.008665137744, 1963.017642742016, 1678.3066015774714, 1407.2180982676896, 1423.565143693405, 1775.026620346288, 1610.1939123036568, 1537.9944616734133, 1696.0159007886632, 2099.243021289645, 1689.2046318612818, 1923.5122829632037, 1884.0069231843913, 1901.7162223955831, 1563.8772835974628, 1411.3048596241183, 1588.397851736036, 1310.4980794988728, 2052.926392583451, 1448.0857118319782, 1627.9032115148486, 1454.8969807593598, 1683.7556167193766, 1414.0293671950708, 1671.49533265009, 2155.0954264941734, 2127.850350784647, 1711.0006924289023, 2176.8914870617937, 1709.638438643426, 1400.406829340308, 2065.186676652738, 1746.419290851286, 2116.9523205008372, 2076.084706936548, 1833.6035331217686, 1540.718969244366, 1490.3155791817433, 1922.1500291777274, 1987.5382108805893, 2111.503305358932, 1869.0221315441522, 2095.1562599332165, 1329.5696324955409, 2149.646411352268, 1546.1679843862712, 1422.2028899079287, 1979.3646881677316, 1933.0480594615378, 1513.47389353484, 1521.647416247698, 1305.0490643569678, 2018.870047946544, 2054.288646368928, 1926.2367905341562, 1371.799499845306, 1565.2395373829393, 1988.9004646660658, 1394.957814198403, 2066.5489304382145, 1623.8164501584197, 1817.256487696053, 2101.9675288605977, 1525.7341776041267, 2077.4469607220244, 2009.33427144821, 2093.79400614774, 2014.7832865901153, 1886.7314307553438, 1314.5848408553018, 1646.9747645115167, 1764.1285900624778, 1796.8226809139087, 1681.031109148424, 1634.71448044223, 1803.6339498412901, 1644.2502569405642, 1840.41480204915, 2114.2278129298843, 1435.8254277626916, 1697.3781545741394, 2073.3601993655957, 1889.4559383262965, 1769.577605204383, 1311.860333284349, 1450.8102194029307, 1700.102662145092, 2057.0131539398803, 1663.321809937232, 1839.0525482636738, 1864.9353701877233, 1456.259234544836, 1551.6169995281762, 2156.4576802796496, 1375.8862612017347, 1982.0891957386843, 1544.805730600795, 1493.040086752696, 1424.9273974788812, 2122.401335642742, 1557.0660146700816, 1570.6885525248445, 1877.19565425701, 1903.0784761810594, 1852.6750861184366, 1698.7404083596157, 2088.344991005835, 1686.480124290329, 1873.108892900581, 2044.7528698705937, 1828.1545179798634, 1916.7010140358223, 1497.1268481091247, 1844.501563405579, 1468.5195186141227, 1772.3021127753354, 1721.8987227127127, 2180.978248418223, 1449.4479656174544, 1300.9623030005387, 1533.9077003169846, 1648.337018296993, 1494.4023405381722, 2059.737661510833, 1337.7431552083985, 1408.5803520531658, 1352.7279468486379, 1659.2350485808033, 1998.4362411643997, 1893.5426996827255, 2121.039081857266, 1373.1617536307822, 1670.1330788646137, 1809.0829649831953, 1505.3003708219826, 2171.4424719198887, 1446.723458046502, 1614.2806736600858, 1506.6626246074588, 1328.2073787100646, 1554.3415070991289, 1908.5274913229646, 1813.169726339624, 1994.349479807971, 1691.9291394322343, 1487.5910716107906, 1776.3888741317644, 1739.6080219239045, 1335.018647637446, 1637.4389880131826, 1345.9166779212565, 1736.8835143529518, 1784.562396844622, 1585.6733441650836, 1591.1223593069888, 1478.0552951124566, 1798.184934699385, 2050.2018850124987, 1403.1313369112606, 1825.4300104089107, 1859.486355045818, 1562.5150298119866, 1499.8513556800772, 2042.028362299641, 1717.8119613562837, 1341.8299165648275, 2081.5337220784536, 1810.4452187686716, 1845.8638171910552, 1427.6519050498339, 1615.642927445562, 2104.6920364315506, 1679.6688553629476, 1999.798494949876, 1495.7645943236485, 1336.3809014229223, 2118.3145742863135, 2130.5748583556, 1535.2699541024608, 2178.25374084727, 2035.2170933722596, 1754.5928135641436, 1299.6000492150624, 1307.7735719279203, 1433.100920191739, 1649.6992720824692, 2082.89597586393, 1369.0749922743535, 1401.7690831257844, 1725.9854840691414, 1472.6062799705514]}],                        {\"template\": {\"data\": {\"bar\": [{\"error_x\": {\"color\": \"#2a3f5f\"}, \"error_y\": {\"color\": \"#2a3f5f\"}, \"marker\": {\"line\": {\"color\": \"#E5ECF6\", \"width\": 0.5}}, \"type\": \"bar\"}], \"barpolar\": [{\"marker\": {\"line\": {\"color\": \"#E5ECF6\", \"width\": 0.5}}, \"type\": \"barpolar\"}], \"carpet\": [{\"aaxis\": {\"endlinecolor\": \"#2a3f5f\", \"gridcolor\": \"white\", \"linecolor\": \"white\", \"minorgridcolor\": \"white\", \"startlinecolor\": \"#2a3f5f\"}, \"baxis\": {\"endlinecolor\": \"#2a3f5f\", \"gridcolor\": \"white\", \"linecolor\": \"white\", \"minorgridcolor\": \"white\", \"startlinecolor\": \"#2a3f5f\"}, \"type\": \"carpet\"}], \"choropleth\": [{\"colorbar\": {\"outlinewidth\": 0, \"ticks\": \"\"}, \"type\": \"choropleth\"}], \"contour\": [{\"colorbar\": {\"outlinewidth\": 0, \"ticks\": \"\"}, \"colorscale\": [[0.0, \"#0d0887\"], [0.1111111111111111, \"#46039f\"], [0.2222222222222222, \"#7201a8\"], [0.3333333333333333, \"#9c179e\"], [0.4444444444444444, \"#bd3786\"], [0.5555555555555556, \"#d8576b\"], [0.6666666666666666, \"#ed7953\"], [0.7777777777777778, \"#fb9f3a\"], [0.8888888888888888, \"#fdca26\"], [1.0, \"#f0f921\"]], \"type\": \"contour\"}], \"contourcarpet\": [{\"colorbar\": {\"outlinewidth\": 0, \"ticks\": \"\"}, \"type\": \"contourcarpet\"}], \"heatmap\": [{\"colorbar\": {\"outlinewidth\": 0, \"ticks\": \"\"}, \"colorscale\": [[0.0, \"#0d0887\"], [0.1111111111111111, \"#46039f\"], [0.2222222222222222, \"#7201a8\"], [0.3333333333333333, \"#9c179e\"], [0.4444444444444444, \"#bd3786\"], [0.5555555555555556, \"#d8576b\"], [0.6666666666666666, \"#ed7953\"], [0.7777777777777778, \"#fb9f3a\"], [0.8888888888888888, \"#fdca26\"], [1.0, \"#f0f921\"]], \"type\": \"heatmap\"}], \"heatmapgl\": [{\"colorbar\": {\"outlinewidth\": 0, \"ticks\": \"\"}, \"colorscale\": [[0.0, \"#0d0887\"], [0.1111111111111111, \"#46039f\"], [0.2222222222222222, \"#7201a8\"], [0.3333333333333333, \"#9c179e\"], [0.4444444444444444, \"#bd3786\"], [0.5555555555555556, \"#d8576b\"], [0.6666666666666666, \"#ed7953\"], [0.7777777777777778, \"#fb9f3a\"], [0.8888888888888888, \"#fdca26\"], [1.0, \"#f0f921\"]], \"type\": \"heatmapgl\"}], \"histogram\": [{\"marker\": {\"colorbar\": {\"outlinewidth\": 0, \"ticks\": \"\"}}, \"type\": \"histogram\"}], \"histogram2d\": [{\"colorbar\": {\"outlinewidth\": 0, \"ticks\": \"\"}, \"colorscale\": [[0.0, \"#0d0887\"], [0.1111111111111111, \"#46039f\"], [0.2222222222222222, \"#7201a8\"], [0.3333333333333333, \"#9c179e\"], [0.4444444444444444, \"#bd3786\"], [0.5555555555555556, \"#d8576b\"], [0.6666666666666666, \"#ed7953\"], [0.7777777777777778, \"#fb9f3a\"], [0.8888888888888888, \"#fdca26\"], [1.0, \"#f0f921\"]], \"type\": \"histogram2d\"}], \"histogram2dcontour\": [{\"colorbar\": {\"outlinewidth\": 0, \"ticks\": \"\"}, \"colorscale\": [[0.0, \"#0d0887\"], [0.1111111111111111, \"#46039f\"], [0.2222222222222222, \"#7201a8\"], [0.3333333333333333, \"#9c179e\"], [0.4444444444444444, \"#bd3786\"], [0.5555555555555556, \"#d8576b\"], [0.6666666666666666, \"#ed7953\"], [0.7777777777777778, \"#fb9f3a\"], [0.8888888888888888, \"#fdca26\"], [1.0, \"#f0f921\"]], \"type\": \"histogram2dcontour\"}], \"mesh3d\": [{\"colorbar\": {\"outlinewidth\": 0, \"ticks\": \"\"}, \"type\": \"mesh3d\"}], \"parcoords\": [{\"line\": {\"colorbar\": {\"outlinewidth\": 0, \"ticks\": \"\"}}, \"type\": \"parcoords\"}], \"pie\": [{\"automargin\": true, \"type\": \"pie\"}], \"scatter\": [{\"marker\": {\"colorbar\": {\"outlinewidth\": 0, \"ticks\": \"\"}}, \"type\": \"scatter\"}], \"scatter3d\": [{\"line\": {\"colorbar\": {\"outlinewidth\": 0, \"ticks\": \"\"}}, \"marker\": {\"colorbar\": {\"outlinewidth\": 0, \"ticks\": \"\"}}, \"type\": \"scatter3d\"}], \"scattercarpet\": [{\"marker\": {\"colorbar\": {\"outlinewidth\": 0, \"ticks\": \"\"}}, \"type\": \"scattercarpet\"}], \"scattergeo\": [{\"marker\": {\"colorbar\": {\"outlinewidth\": 0, \"ticks\": \"\"}}, \"type\": \"scattergeo\"}], \"scattergl\": [{\"marker\": {\"colorbar\": {\"outlinewidth\": 0, \"ticks\": \"\"}}, \"type\": \"scattergl\"}], \"scattermapbox\": [{\"marker\": {\"colorbar\": {\"outlinewidth\": 0, \"ticks\": \"\"}}, \"type\": \"scattermapbox\"}], \"scatterpolar\": [{\"marker\": {\"colorbar\": {\"outlinewidth\": 0, \"ticks\": \"\"}}, \"type\": \"scatterpolar\"}], \"scatterpolargl\": [{\"marker\": {\"colorbar\": {\"outlinewidth\": 0, \"ticks\": \"\"}}, \"type\": \"scatterpolargl\"}], \"scatterternary\": [{\"marker\": {\"colorbar\": {\"outlinewidth\": 0, \"ticks\": \"\"}}, \"type\": \"scatterternary\"}], \"surface\": [{\"colorbar\": {\"outlinewidth\": 0, \"ticks\": \"\"}, \"colorscale\": [[0.0, \"#0d0887\"], [0.1111111111111111, \"#46039f\"], [0.2222222222222222, \"#7201a8\"], [0.3333333333333333, \"#9c179e\"], [0.4444444444444444, \"#bd3786\"], [0.5555555555555556, \"#d8576b\"], [0.6666666666666666, \"#ed7953\"], [0.7777777777777778, \"#fb9f3a\"], [0.8888888888888888, \"#fdca26\"], [1.0, \"#f0f921\"]], \"type\": \"surface\"}], \"table\": [{\"cells\": {\"fill\": {\"color\": \"#EBF0F8\"}, \"line\": {\"color\": \"white\"}}, \"header\": {\"fill\": {\"color\": \"#C8D4E3\"}, \"line\": {\"color\": \"white\"}}, \"type\": \"table\"}]}, \"layout\": {\"annotationdefaults\": {\"arrowcolor\": \"#2a3f5f\", \"arrowhead\": 0, \"arrowwidth\": 1}, \"autotypenumbers\": \"strict\", \"coloraxis\": {\"colorbar\": {\"outlinewidth\": 0, \"ticks\": \"\"}}, \"colorscale\": {\"diverging\": [[0, \"#8e0152\"], [0.1, \"#c51b7d\"], [0.2, \"#de77ae\"], [0.3, \"#f1b6da\"], [0.4, \"#fde0ef\"], [0.5, \"#f7f7f7\"], [0.6, \"#e6f5d0\"], [0.7, \"#b8e186\"], [0.8, \"#7fbc41\"], [0.9, \"#4d9221\"], [1, \"#276419\"]], \"sequential\": [[0.0, \"#0d0887\"], [0.1111111111111111, \"#46039f\"], [0.2222222222222222, \"#7201a8\"], [0.3333333333333333, \"#9c179e\"], [0.4444444444444444, \"#bd3786\"], [0.5555555555555556, \"#d8576b\"], [0.6666666666666666, \"#ed7953\"], [0.7777777777777778, \"#fb9f3a\"], [0.8888888888888888, \"#fdca26\"], [1.0, \"#f0f921\"]], \"sequentialminus\": [[0.0, \"#0d0887\"], [0.1111111111111111, \"#46039f\"], [0.2222222222222222, \"#7201a8\"], [0.3333333333333333, \"#9c179e\"], [0.4444444444444444, \"#bd3786\"], [0.5555555555555556, \"#d8576b\"], [0.6666666666666666, \"#ed7953\"], [0.7777777777777778, \"#fb9f3a\"], [0.8888888888888888, \"#fdca26\"], [1.0, \"#f0f921\"]]}, \"colorway\": [\"#636efa\", \"#EF553B\", \"#00cc96\", \"#ab63fa\", \"#FFA15A\", \"#19d3f3\", \"#FF6692\", \"#B6E880\", \"#FF97FF\", \"#FECB52\"], \"font\": {\"color\": \"#2a3f5f\"}, \"geo\": {\"bgcolor\": \"white\", \"lakecolor\": \"white\", \"landcolor\": \"#E5ECF6\", \"showlakes\": true, \"showland\": true, \"subunitcolor\": \"white\"}, \"hoverlabel\": {\"align\": \"left\"}, \"hovermode\": \"closest\", \"mapbox\": {\"style\": \"light\"}, \"paper_bgcolor\": \"white\", \"plot_bgcolor\": \"#E5ECF6\", \"polar\": {\"angularaxis\": {\"gridcolor\": \"white\", \"linecolor\": \"white\", \"ticks\": \"\"}, \"bgcolor\": \"#E5ECF6\", \"radialaxis\": {\"gridcolor\": \"white\", \"linecolor\": \"white\", \"ticks\": \"\"}}, \"scene\": {\"xaxis\": {\"backgroundcolor\": \"#E5ECF6\", \"gridcolor\": \"white\", \"gridwidth\": 2, \"linecolor\": \"white\", \"showbackground\": true, \"ticks\": \"\", \"zerolinecolor\": \"white\"}, \"yaxis\": {\"backgroundcolor\": \"#E5ECF6\", \"gridcolor\": \"white\", \"gridwidth\": 2, \"linecolor\": \"white\", \"showbackground\": true, \"ticks\": \"\", \"zerolinecolor\": \"white\"}, \"zaxis\": {\"backgroundcolor\": \"#E5ECF6\", \"gridcolor\": \"white\", \"gridwidth\": 2, \"linecolor\": \"white\", \"showbackground\": true, \"ticks\": \"\", \"zerolinecolor\": \"white\"}}, \"shapedefaults\": {\"line\": {\"color\": \"#2a3f5f\"}}, \"ternary\": {\"aaxis\": {\"gridcolor\": \"white\", \"linecolor\": \"white\", \"ticks\": \"\"}, \"baxis\": {\"gridcolor\": \"white\", \"linecolor\": \"white\", \"ticks\": \"\"}, \"bgcolor\": \"#E5ECF6\", \"caxis\": {\"gridcolor\": \"white\", \"linecolor\": \"white\", \"ticks\": \"\"}}, \"title\": {\"x\": 0.05}, \"xaxis\": {\"automargin\": true, \"gridcolor\": \"white\", \"linecolor\": \"white\", \"ticks\": \"\", \"title\": {\"standoff\": 15}, \"zerolinecolor\": \"white\", \"zerolinewidth\": 2}, \"yaxis\": {\"automargin\": true, \"gridcolor\": \"white\", \"linecolor\": \"white\", \"ticks\": \"\", \"title\": {\"standoff\": 15}, \"zerolinecolor\": \"white\", \"zerolinewidth\": 2}}}, \"title\": {\"text\": \"Stock Prices of HDFC\"}, \"xaxis\": {\"title\": {\"font\": {\"color\": \"#7f7f7f\", \"family\": \"Courier New, monospace\", \"size\": 18}, \"text\": \"Day\"}}, \"yaxis\": {\"title\": {\"font\": {\"color\": \"#7f7f7f\", \"family\": \"Courier New, monospace\", \"size\": 18}, \"text\": \"Price\"}}},                        {\"responsive\": true}                    ).then(function(){\n",
       "                            \n",
       "var gd = document.getElementById('09d8f4ba-4b85-496c-997e-f90530c21cbb');\n",
       "var x = new MutationObserver(function (mutations, observer) {{\n",
       "        var display = window.getComputedStyle(gd).display;\n",
       "        if (!display || display === 'none') {{\n",
       "            console.log([gd, 'removed!']);\n",
       "            Plotly.purge(gd);\n",
       "            observer.disconnect();\n",
       "        }}\n",
       "}});\n",
       "\n",
       "// Listen for the removal of the full notebook cells\n",
       "var notebookContainer = gd.closest('#notebook-container');\n",
       "if (notebookContainer) {{\n",
       "    x.observe(notebookContainer, {childList: true});\n",
       "}}\n",
       "\n",
       "// Listen for the clearing of the current output cell\n",
       "var outputEl = gd.closest('.output');\n",
       "if (outputEl) {{\n",
       "    x.observe(outputEl, {childList: true});\n",
       "}}\n",
       "\n",
       "                        })                };                });            </script>        </div>"
      ]
     },
     "metadata": {},
     "output_type": "display_data"
    }
   ],
   "source": [
    "iplot(plot2)"
   ]
  },
  {
   "cell_type": "code",
   "execution_count": 17,
   "metadata": {},
   "outputs": [
    {
     "name": "stdout",
     "output_type": "stream",
     "text": [
      "\n",
      "Metric           Train                Test        \n",
      "r2_score  0.1263891031196116\t0.09104920242032655\n",
      "MSE       465198.35585500946\t438448.57869797776\n",
      "\n"
     ]
    }
   ],
   "source": [
    "#Calculate scores for model evaluation\n",
    "scores = f'''\n",
    "{'Metric'.ljust(10)}{'Train'.center(20)}{'Test'.center(20)}\n",
    "{'r2_score'.ljust(10)}{r2_score(Y_train, lm.predict(X_train))}\\t{r2_score(Y_test, lm.predict(X_test))}\n",
    "{'MSE'.ljust(10)}{mse(Y_train, lm.predict(X_train))}\\t{mse(Y_test, lm.predict(X_test))}\n",
    "'''\n",
    "print(scores)"
   ]
  },
  {
   "cell_type": "code",
   "execution_count": null,
   "metadata": {},
   "outputs": [],
   "source": []
  }
 ],
 "metadata": {
  "kernelspec": {
   "display_name": "Python 3",
   "language": "python",
   "name": "python3"
  },
  "language_info": {
   "codemirror_mode": {
    "name": "ipython",
    "version": 3
   },
   "file_extension": ".py",
   "mimetype": "text/x-python",
   "name": "python",
   "nbconvert_exporter": "python",
   "pygments_lexer": "ipython3",
   "version": "3.8.5"
  }
 },
 "nbformat": 4,
 "nbformat_minor": 4
}
